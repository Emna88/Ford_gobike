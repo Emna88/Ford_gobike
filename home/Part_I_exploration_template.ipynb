{
 "cells": [
  {
   "cell_type": "markdown",
   "metadata": {},
   "source": [
    "# Part I - (Ford Go-Bike System Exploration )\n",
    "## by (Emna Krichene)\n",
    "\n",
    "## Introduction\n",
    "> This work explores Ford Go-Bike System Dataset. This data set includes information about 183412 rides made in a bike-sharing system covering the greater San Francisco Bay area. \n",
    "\n",
    "## Table of Contents\n",
    "\n",
    "\n",
    "#### <a href=\"#gathering\">1. Data Gathering</a>\n",
    "#### <a href=\"#assessing\">2. Assessing Data</a>\n",
    "#### <a href=\"#cleaning\">3. Cleaning Data </a>\n",
    "#### <a href=\"#storing\">4. Storing Data</a>\n",
    "#### <a href=\"#analyze\">5. Analyzing and Visualizing Data</a>\n",
    "#### <a href=\"#conclusions\">6. Conclusions  </a>\n"
   ]
  },
  {
   "cell_type": "code",
   "execution_count": 1,
   "metadata": {},
   "outputs": [],
   "source": [
    "# import all packages and set plots to be embedded inline\n",
    "import numpy as np\n",
    "import pandas as pd\n",
    "import matplotlib.pyplot as plt\n",
    "import seaborn as sb\n",
    "from datetime import datetime as dt\n",
    "%matplotlib inline"
   ]
  },
  {
   "cell_type": "code",
   "execution_count": 2,
   "metadata": {},
   "outputs": [
    {
     "name": "stdout",
     "output_type": "stream",
     "text": [
      "Requirement already up-to-date: seaborn in /opt/conda/lib/python3.6/site-packages (0.11.2)\n",
      "Requirement already satisfied, skipping upgrade: numpy>=1.15 in /opt/conda/lib/python3.6/site-packages (from seaborn) (1.19.5)\n",
      "Requirement already satisfied, skipping upgrade: pandas>=0.23 in /opt/conda/lib/python3.6/site-packages (from seaborn) (0.23.3)\n",
      "Requirement already satisfied, skipping upgrade: scipy>=1.0 in /opt/conda/lib/python3.6/site-packages (from seaborn) (1.2.1)\n",
      "Requirement already satisfied, skipping upgrade: matplotlib>=2.2 in /opt/conda/lib/python3.6/site-packages (from seaborn) (3.3.4)\n",
      "Requirement already satisfied, skipping upgrade: python-dateutil>=2.5.0 in /opt/conda/lib/python3.6/site-packages (from pandas>=0.23->seaborn) (2.6.1)\n",
      "Requirement already satisfied, skipping upgrade: pytz>=2011k in /opt/conda/lib/python3.6/site-packages (from pandas>=0.23->seaborn) (2017.3)\n",
      "Requirement already satisfied, skipping upgrade: pyparsing!=2.0.4,!=2.1.2,!=2.1.6,>=2.0.3 in /opt/conda/lib/python3.6/site-packages (from matplotlib>=2.2->seaborn) (2.2.0)\n",
      "Requirement already satisfied, skipping upgrade: cycler>=0.10 in /opt/conda/lib/python3.6/site-packages/cycler-0.10.0-py3.6.egg (from matplotlib>=2.2->seaborn) (0.10.0)\n",
      "Requirement already satisfied, skipping upgrade: pillow>=6.2.0 in /opt/conda/lib/python3.6/site-packages (from matplotlib>=2.2->seaborn) (8.4.0)\n",
      "Requirement already satisfied, skipping upgrade: kiwisolver>=1.0.1 in /opt/conda/lib/python3.6/site-packages (from matplotlib>=2.2->seaborn) (1.3.1)\n",
      "Requirement already satisfied, skipping upgrade: six>=1.5 in /opt/conda/lib/python3.6/site-packages (from python-dateutil>=2.5.0->pandas>=0.23->seaborn) (1.11.0)\n"
     ]
    }
   ],
   "source": [
    "!pip install seaborn --upgrade"
   ]
  },
  {
   "cell_type": "code",
   "execution_count": 3,
   "metadata": {},
   "outputs": [
    {
     "data": {
      "text/plain": [
       "'0.11.2'"
      ]
     },
     "execution_count": 3,
     "metadata": {},
     "output_type": "execute_result"
    }
   ],
   "source": [
    "sb.__version__"
   ]
  },
  {
   "cell_type": "markdown",
   "metadata": {},
   "source": [
    "## <a id='gathering'>1. Data Gathering </a>"
   ]
  },
  {
   "cell_type": "markdown",
   "metadata": {},
   "source": [
    "> Load in your dataset and describe its properties through the questions below. Try and motivate your exploration goals through this section.\n"
   ]
  },
  {
   "cell_type": "code",
   "execution_count": 4,
   "metadata": {},
   "outputs": [
    {
     "data": {
      "text/plain": [
       "(183412, 16)"
      ]
     },
     "execution_count": 4,
     "metadata": {},
     "output_type": "execute_result"
    }
   ],
   "source": [
    "df = pd.read_csv('201902-fordgobike-tripdata.csv')\n",
    "df.shape"
   ]
  },
  {
   "cell_type": "markdown",
   "metadata": {},
   "source": [
    "## <a id='assessing'>2. Assessing Data </a>"
   ]
  },
  {
   "cell_type": "code",
   "execution_count": 5,
   "metadata": {},
   "outputs": [
    {
     "data": {
      "text/html": [
       "<div>\n",
       "<style scoped>\n",
       "    .dataframe tbody tr th:only-of-type {\n",
       "        vertical-align: middle;\n",
       "    }\n",
       "\n",
       "    .dataframe tbody tr th {\n",
       "        vertical-align: top;\n",
       "    }\n",
       "\n",
       "    .dataframe thead th {\n",
       "        text-align: right;\n",
       "    }\n",
       "</style>\n",
       "<table border=\"1\" class=\"dataframe\">\n",
       "  <thead>\n",
       "    <tr style=\"text-align: right;\">\n",
       "      <th></th>\n",
       "      <th>duration_sec</th>\n",
       "      <th>start_time</th>\n",
       "      <th>end_time</th>\n",
       "      <th>start_station_id</th>\n",
       "      <th>start_station_name</th>\n",
       "      <th>start_station_latitude</th>\n",
       "      <th>start_station_longitude</th>\n",
       "      <th>end_station_id</th>\n",
       "      <th>end_station_name</th>\n",
       "      <th>end_station_latitude</th>\n",
       "      <th>end_station_longitude</th>\n",
       "      <th>bike_id</th>\n",
       "      <th>user_type</th>\n",
       "      <th>member_birth_year</th>\n",
       "      <th>member_gender</th>\n",
       "      <th>bike_share_for_all_trip</th>\n",
       "    </tr>\n",
       "  </thead>\n",
       "  <tbody>\n",
       "    <tr>\n",
       "      <th>0</th>\n",
       "      <td>52185</td>\n",
       "      <td>2019-02-28 17:32:10.1450</td>\n",
       "      <td>2019-03-01 08:01:55.9750</td>\n",
       "      <td>21.0</td>\n",
       "      <td>Montgomery St BART Station (Market St at 2nd St)</td>\n",
       "      <td>37.789625</td>\n",
       "      <td>-122.400811</td>\n",
       "      <td>13.0</td>\n",
       "      <td>Commercial St at Montgomery St</td>\n",
       "      <td>37.794231</td>\n",
       "      <td>-122.402923</td>\n",
       "      <td>4902</td>\n",
       "      <td>Customer</td>\n",
       "      <td>1984.0</td>\n",
       "      <td>Male</td>\n",
       "      <td>No</td>\n",
       "    </tr>\n",
       "    <tr>\n",
       "      <th>1</th>\n",
       "      <td>42521</td>\n",
       "      <td>2019-02-28 18:53:21.7890</td>\n",
       "      <td>2019-03-01 06:42:03.0560</td>\n",
       "      <td>23.0</td>\n",
       "      <td>The Embarcadero at Steuart St</td>\n",
       "      <td>37.791464</td>\n",
       "      <td>-122.391034</td>\n",
       "      <td>81.0</td>\n",
       "      <td>Berry St at 4th St</td>\n",
       "      <td>37.775880</td>\n",
       "      <td>-122.393170</td>\n",
       "      <td>2535</td>\n",
       "      <td>Customer</td>\n",
       "      <td>NaN</td>\n",
       "      <td>NaN</td>\n",
       "      <td>No</td>\n",
       "    </tr>\n",
       "    <tr>\n",
       "      <th>2</th>\n",
       "      <td>61854</td>\n",
       "      <td>2019-02-28 12:13:13.2180</td>\n",
       "      <td>2019-03-01 05:24:08.1460</td>\n",
       "      <td>86.0</td>\n",
       "      <td>Market St at Dolores St</td>\n",
       "      <td>37.769305</td>\n",
       "      <td>-122.426826</td>\n",
       "      <td>3.0</td>\n",
       "      <td>Powell St BART Station (Market St at 4th St)</td>\n",
       "      <td>37.786375</td>\n",
       "      <td>-122.404904</td>\n",
       "      <td>5905</td>\n",
       "      <td>Customer</td>\n",
       "      <td>1972.0</td>\n",
       "      <td>Male</td>\n",
       "      <td>No</td>\n",
       "    </tr>\n",
       "    <tr>\n",
       "      <th>3</th>\n",
       "      <td>36490</td>\n",
       "      <td>2019-02-28 17:54:26.0100</td>\n",
       "      <td>2019-03-01 04:02:36.8420</td>\n",
       "      <td>375.0</td>\n",
       "      <td>Grove St at Masonic Ave</td>\n",
       "      <td>37.774836</td>\n",
       "      <td>-122.446546</td>\n",
       "      <td>70.0</td>\n",
       "      <td>Central Ave at Fell St</td>\n",
       "      <td>37.773311</td>\n",
       "      <td>-122.444293</td>\n",
       "      <td>6638</td>\n",
       "      <td>Subscriber</td>\n",
       "      <td>1989.0</td>\n",
       "      <td>Other</td>\n",
       "      <td>No</td>\n",
       "    </tr>\n",
       "    <tr>\n",
       "      <th>4</th>\n",
       "      <td>1585</td>\n",
       "      <td>2019-02-28 23:54:18.5490</td>\n",
       "      <td>2019-03-01 00:20:44.0740</td>\n",
       "      <td>7.0</td>\n",
       "      <td>Frank H Ogawa Plaza</td>\n",
       "      <td>37.804562</td>\n",
       "      <td>-122.271738</td>\n",
       "      <td>222.0</td>\n",
       "      <td>10th Ave at E 15th St</td>\n",
       "      <td>37.792714</td>\n",
       "      <td>-122.248780</td>\n",
       "      <td>4898</td>\n",
       "      <td>Subscriber</td>\n",
       "      <td>1974.0</td>\n",
       "      <td>Male</td>\n",
       "      <td>Yes</td>\n",
       "    </tr>\n",
       "    <tr>\n",
       "      <th>5</th>\n",
       "      <td>1793</td>\n",
       "      <td>2019-02-28 23:49:58.6320</td>\n",
       "      <td>2019-03-01 00:19:51.7600</td>\n",
       "      <td>93.0</td>\n",
       "      <td>4th St at Mission Bay Blvd S</td>\n",
       "      <td>37.770407</td>\n",
       "      <td>-122.391198</td>\n",
       "      <td>323.0</td>\n",
       "      <td>Broadway at Kearny</td>\n",
       "      <td>37.798014</td>\n",
       "      <td>-122.405950</td>\n",
       "      <td>5200</td>\n",
       "      <td>Subscriber</td>\n",
       "      <td>1959.0</td>\n",
       "      <td>Male</td>\n",
       "      <td>No</td>\n",
       "    </tr>\n",
       "    <tr>\n",
       "      <th>6</th>\n",
       "      <td>1147</td>\n",
       "      <td>2019-02-28 23:55:35.1040</td>\n",
       "      <td>2019-03-01 00:14:42.5880</td>\n",
       "      <td>300.0</td>\n",
       "      <td>Palm St at Willow St</td>\n",
       "      <td>37.317298</td>\n",
       "      <td>-121.884995</td>\n",
       "      <td>312.0</td>\n",
       "      <td>San Jose Diridon Station</td>\n",
       "      <td>37.329732</td>\n",
       "      <td>-121.901782</td>\n",
       "      <td>3803</td>\n",
       "      <td>Subscriber</td>\n",
       "      <td>1983.0</td>\n",
       "      <td>Female</td>\n",
       "      <td>No</td>\n",
       "    </tr>\n",
       "    <tr>\n",
       "      <th>7</th>\n",
       "      <td>1615</td>\n",
       "      <td>2019-02-28 23:41:06.7660</td>\n",
       "      <td>2019-03-01 00:08:02.7560</td>\n",
       "      <td>10.0</td>\n",
       "      <td>Washington St at Kearny St</td>\n",
       "      <td>37.795393</td>\n",
       "      <td>-122.404770</td>\n",
       "      <td>127.0</td>\n",
       "      <td>Valencia St at 21st St</td>\n",
       "      <td>37.756708</td>\n",
       "      <td>-122.421025</td>\n",
       "      <td>6329</td>\n",
       "      <td>Subscriber</td>\n",
       "      <td>1989.0</td>\n",
       "      <td>Male</td>\n",
       "      <td>No</td>\n",
       "    </tr>\n",
       "    <tr>\n",
       "      <th>8</th>\n",
       "      <td>1570</td>\n",
       "      <td>2019-02-28 23:41:48.7900</td>\n",
       "      <td>2019-03-01 00:07:59.7150</td>\n",
       "      <td>10.0</td>\n",
       "      <td>Washington St at Kearny St</td>\n",
       "      <td>37.795393</td>\n",
       "      <td>-122.404770</td>\n",
       "      <td>127.0</td>\n",
       "      <td>Valencia St at 21st St</td>\n",
       "      <td>37.756708</td>\n",
       "      <td>-122.421025</td>\n",
       "      <td>6548</td>\n",
       "      <td>Subscriber</td>\n",
       "      <td>1988.0</td>\n",
       "      <td>Other</td>\n",
       "      <td>No</td>\n",
       "    </tr>\n",
       "    <tr>\n",
       "      <th>9</th>\n",
       "      <td>1049</td>\n",
       "      <td>2019-02-28 23:49:47.6990</td>\n",
       "      <td>2019-03-01 00:07:17.0250</td>\n",
       "      <td>19.0</td>\n",
       "      <td>Post St at Kearny St</td>\n",
       "      <td>37.788975</td>\n",
       "      <td>-122.403452</td>\n",
       "      <td>121.0</td>\n",
       "      <td>Mission Playground</td>\n",
       "      <td>37.759210</td>\n",
       "      <td>-122.421339</td>\n",
       "      <td>6488</td>\n",
       "      <td>Subscriber</td>\n",
       "      <td>1992.0</td>\n",
       "      <td>Male</td>\n",
       "      <td>No</td>\n",
       "    </tr>\n",
       "    <tr>\n",
       "      <th>10</th>\n",
       "      <td>458</td>\n",
       "      <td>2019-02-28 23:57:57.2110</td>\n",
       "      <td>2019-03-01 00:05:35.4350</td>\n",
       "      <td>370.0</td>\n",
       "      <td>Jones St at Post St</td>\n",
       "      <td>37.787327</td>\n",
       "      <td>-122.413278</td>\n",
       "      <td>43.0</td>\n",
       "      <td>San Francisco Public Library (Grove St at Hyde...</td>\n",
       "      <td>37.778768</td>\n",
       "      <td>-122.415929</td>\n",
       "      <td>5318</td>\n",
       "      <td>Subscriber</td>\n",
       "      <td>1996.0</td>\n",
       "      <td>Female</td>\n",
       "      <td>Yes</td>\n",
       "    </tr>\n",
       "    <tr>\n",
       "      <th>11</th>\n",
       "      <td>506</td>\n",
       "      <td>2019-02-28 23:56:55.5400</td>\n",
       "      <td>2019-03-01 00:05:21.7330</td>\n",
       "      <td>44.0</td>\n",
       "      <td>Civic Center/UN Plaza BART Station (Market St ...</td>\n",
       "      <td>37.781074</td>\n",
       "      <td>-122.411738</td>\n",
       "      <td>343.0</td>\n",
       "      <td>Bryant St at 2nd St</td>\n",
       "      <td>37.783172</td>\n",
       "      <td>-122.393572</td>\n",
       "      <td>5848</td>\n",
       "      <td>Subscriber</td>\n",
       "      <td>1993.0</td>\n",
       "      <td>Male</td>\n",
       "      <td>No</td>\n",
       "    </tr>\n",
       "    <tr>\n",
       "      <th>12</th>\n",
       "      <td>1176</td>\n",
       "      <td>2019-02-28 23:45:12.6510</td>\n",
       "      <td>2019-03-01 00:04:49.1840</td>\n",
       "      <td>127.0</td>\n",
       "      <td>Valencia St at 21st St</td>\n",
       "      <td>37.756708</td>\n",
       "      <td>-122.421025</td>\n",
       "      <td>323.0</td>\n",
       "      <td>Broadway at Kearny</td>\n",
       "      <td>37.798014</td>\n",
       "      <td>-122.405950</td>\n",
       "      <td>5328</td>\n",
       "      <td>Customer</td>\n",
       "      <td>1990.0</td>\n",
       "      <td>Male</td>\n",
       "      <td>No</td>\n",
       "    </tr>\n",
       "    <tr>\n",
       "      <th>13</th>\n",
       "      <td>915</td>\n",
       "      <td>2019-02-28 23:49:06.0620</td>\n",
       "      <td>2019-03-01 00:04:21.8670</td>\n",
       "      <td>252.0</td>\n",
       "      <td>Channing Way at Shattuck Ave</td>\n",
       "      <td>37.865847</td>\n",
       "      <td>-122.267443</td>\n",
       "      <td>244.0</td>\n",
       "      <td>Shattuck Ave at Hearst Ave</td>\n",
       "      <td>37.873676</td>\n",
       "      <td>-122.268487</td>\n",
       "      <td>5101</td>\n",
       "      <td>Subscriber</td>\n",
       "      <td>NaN</td>\n",
       "      <td>NaN</td>\n",
       "      <td>No</td>\n",
       "    </tr>\n",
       "    <tr>\n",
       "      <th>14</th>\n",
       "      <td>395</td>\n",
       "      <td>2019-02-28 23:56:26.8480</td>\n",
       "      <td>2019-03-01 00:03:01.9470</td>\n",
       "      <td>243.0</td>\n",
       "      <td>Bancroft Way at College Ave</td>\n",
       "      <td>37.869360</td>\n",
       "      <td>-122.254337</td>\n",
       "      <td>252.0</td>\n",
       "      <td>Channing Way at Shattuck Ave</td>\n",
       "      <td>37.865847</td>\n",
       "      <td>-122.267443</td>\n",
       "      <td>4786</td>\n",
       "      <td>Subscriber</td>\n",
       "      <td>1988.0</td>\n",
       "      <td>Male</td>\n",
       "      <td>No</td>\n",
       "    </tr>\n",
       "    <tr>\n",
       "      <th>15</th>\n",
       "      <td>208</td>\n",
       "      <td>2019-02-28 23:59:18.5480</td>\n",
       "      <td>2019-03-01 00:02:47.2280</td>\n",
       "      <td>349.0</td>\n",
       "      <td>Howard St at Mary St</td>\n",
       "      <td>37.781010</td>\n",
       "      <td>-122.405666</td>\n",
       "      <td>60.0</td>\n",
       "      <td>8th St at Ringold St</td>\n",
       "      <td>37.774520</td>\n",
       "      <td>-122.409449</td>\n",
       "      <td>6361</td>\n",
       "      <td>Subscriber</td>\n",
       "      <td>1993.0</td>\n",
       "      <td>Male</td>\n",
       "      <td>Yes</td>\n",
       "    </tr>\n",
       "    <tr>\n",
       "      <th>16</th>\n",
       "      <td>548</td>\n",
       "      <td>2019-02-28 23:50:41.6070</td>\n",
       "      <td>2019-02-28 23:59:49.9530</td>\n",
       "      <td>131.0</td>\n",
       "      <td>22nd St at Dolores St</td>\n",
       "      <td>37.755000</td>\n",
       "      <td>-122.425728</td>\n",
       "      <td>71.0</td>\n",
       "      <td>Broderick St at Oak St</td>\n",
       "      <td>37.773063</td>\n",
       "      <td>-122.439078</td>\n",
       "      <td>6572</td>\n",
       "      <td>Subscriber</td>\n",
       "      <td>1981.0</td>\n",
       "      <td>Male</td>\n",
       "      <td>No</td>\n",
       "    </tr>\n",
       "    <tr>\n",
       "      <th>17</th>\n",
       "      <td>674</td>\n",
       "      <td>2019-02-28 23:48:25.0950</td>\n",
       "      <td>2019-02-28 23:59:40.0920</td>\n",
       "      <td>74.0</td>\n",
       "      <td>Laguna St at Hayes St</td>\n",
       "      <td>37.776435</td>\n",
       "      <td>-122.426244</td>\n",
       "      <td>336.0</td>\n",
       "      <td>Potrero Ave and Mariposa St</td>\n",
       "      <td>37.763281</td>\n",
       "      <td>-122.407377</td>\n",
       "      <td>5343</td>\n",
       "      <td>Subscriber</td>\n",
       "      <td>1975.0</td>\n",
       "      <td>Male</td>\n",
       "      <td>No</td>\n",
       "    </tr>\n",
       "    <tr>\n",
       "      <th>18</th>\n",
       "      <td>557</td>\n",
       "      <td>2019-02-28 23:49:01.8510</td>\n",
       "      <td>2019-02-28 23:58:19.8090</td>\n",
       "      <td>321.0</td>\n",
       "      <td>5th St at Folsom</td>\n",
       "      <td>37.780146</td>\n",
       "      <td>-122.403071</td>\n",
       "      <td>75.0</td>\n",
       "      <td>Market St at Franklin St</td>\n",
       "      <td>37.773793</td>\n",
       "      <td>-122.421239</td>\n",
       "      <td>5854</td>\n",
       "      <td>Subscriber</td>\n",
       "      <td>1990.0</td>\n",
       "      <td>Male</td>\n",
       "      <td>No</td>\n",
       "    </tr>\n",
       "    <tr>\n",
       "      <th>19</th>\n",
       "      <td>874</td>\n",
       "      <td>2019-02-28 23:43:05.1830</td>\n",
       "      <td>2019-02-28 23:57:39.7960</td>\n",
       "      <td>180.0</td>\n",
       "      <td>Telegraph Ave at 23rd St</td>\n",
       "      <td>37.812678</td>\n",
       "      <td>-122.268773</td>\n",
       "      <td>180.0</td>\n",
       "      <td>Telegraph Ave at 23rd St</td>\n",
       "      <td>37.812678</td>\n",
       "      <td>-122.268773</td>\n",
       "      <td>5629</td>\n",
       "      <td>Customer</td>\n",
       "      <td>1978.0</td>\n",
       "      <td>Male</td>\n",
       "      <td>No</td>\n",
       "    </tr>\n",
       "    <tr>\n",
       "      <th>20</th>\n",
       "      <td>417</td>\n",
       "      <td>2019-02-28 23:50:38.2390</td>\n",
       "      <td>2019-02-28 23:57:35.8520</td>\n",
       "      <td>72.0</td>\n",
       "      <td>Page St at Scott St</td>\n",
       "      <td>37.772406</td>\n",
       "      <td>-122.435650</td>\n",
       "      <td>107.0</td>\n",
       "      <td>17th St at Dolores St</td>\n",
       "      <td>37.763015</td>\n",
       "      <td>-122.426497</td>\n",
       "      <td>4999</td>\n",
       "      <td>Subscriber</td>\n",
       "      <td>1983.0</td>\n",
       "      <td>Male</td>\n",
       "      <td>No</td>\n",
       "    </tr>\n",
       "    <tr>\n",
       "      <th>21</th>\n",
       "      <td>414</td>\n",
       "      <td>2019-02-28 23:50:26.8790</td>\n",
       "      <td>2019-02-28 23:57:21.1300</td>\n",
       "      <td>163.0</td>\n",
       "      <td>Lake Merritt BART Station</td>\n",
       "      <td>37.797320</td>\n",
       "      <td>-122.265320</td>\n",
       "      <td>221.0</td>\n",
       "      <td>6th Ave at E 12th St (Temporary Location)</td>\n",
       "      <td>37.794396</td>\n",
       "      <td>-122.253842</td>\n",
       "      <td>6007</td>\n",
       "      <td>Subscriber</td>\n",
       "      <td>1984.0</td>\n",
       "      <td>Male</td>\n",
       "      <td>Yes</td>\n",
       "    </tr>\n",
       "    <tr>\n",
       "      <th>22</th>\n",
       "      <td>743</td>\n",
       "      <td>2019-02-28 23:44:56.4390</td>\n",
       "      <td>2019-02-28 23:57:20.2120</td>\n",
       "      <td>370.0</td>\n",
       "      <td>Jones St at Post St</td>\n",
       "      <td>37.787327</td>\n",
       "      <td>-122.413278</td>\n",
       "      <td>52.0</td>\n",
       "      <td>McAllister St at Baker St</td>\n",
       "      <td>37.777416</td>\n",
       "      <td>-122.441838</td>\n",
       "      <td>5479</td>\n",
       "      <td>Subscriber</td>\n",
       "      <td>1991.0</td>\n",
       "      <td>Female</td>\n",
       "      <td>No</td>\n",
       "    </tr>\n",
       "    <tr>\n",
       "      <th>23</th>\n",
       "      <td>367</td>\n",
       "      <td>2019-02-28 23:51:06.0140</td>\n",
       "      <td>2019-02-28 23:57:13.3120</td>\n",
       "      <td>243.0</td>\n",
       "      <td>Bancroft Way at College Ave</td>\n",
       "      <td>37.869360</td>\n",
       "      <td>-122.254337</td>\n",
       "      <td>269.0</td>\n",
       "      <td>Telegraph Ave at Carleton St</td>\n",
       "      <td>37.862320</td>\n",
       "      <td>-122.258801</td>\n",
       "      <td>1804</td>\n",
       "      <td>Subscriber</td>\n",
       "      <td>1997.0</td>\n",
       "      <td>Female</td>\n",
       "      <td>No</td>\n",
       "    </tr>\n",
       "    <tr>\n",
       "      <th>24</th>\n",
       "      <td>252</td>\n",
       "      <td>2019-02-28 23:52:51.1640</td>\n",
       "      <td>2019-02-28 23:57:03.9760</td>\n",
       "      <td>190.0</td>\n",
       "      <td>West St at 40th St</td>\n",
       "      <td>37.830223</td>\n",
       "      <td>-122.270950</td>\n",
       "      <td>189.0</td>\n",
       "      <td>Genoa St at 55th St</td>\n",
       "      <td>37.839649</td>\n",
       "      <td>-122.271756</td>\n",
       "      <td>5678</td>\n",
       "      <td>Subscriber</td>\n",
       "      <td>1975.0</td>\n",
       "      <td>Male</td>\n",
       "      <td>No</td>\n",
       "    </tr>\n",
       "    <tr>\n",
       "      <th>25</th>\n",
       "      <td>360</td>\n",
       "      <td>2019-02-28 23:50:31.4310</td>\n",
       "      <td>2019-02-28 23:56:31.8910</td>\n",
       "      <td>163.0</td>\n",
       "      <td>Lake Merritt BART Station</td>\n",
       "      <td>37.797320</td>\n",
       "      <td>-122.265320</td>\n",
       "      <td>196.0</td>\n",
       "      <td>Grand Ave at Perkins St</td>\n",
       "      <td>37.808894</td>\n",
       "      <td>-122.256460</td>\n",
       "      <td>6240</td>\n",
       "      <td>Subscriber</td>\n",
       "      <td>1986.0</td>\n",
       "      <td>Male</td>\n",
       "      <td>No</td>\n",
       "    </tr>\n",
       "    <tr>\n",
       "      <th>26</th>\n",
       "      <td>385</td>\n",
       "      <td>2019-02-28 23:49:24.3990</td>\n",
       "      <td>2019-02-28 23:55:50.2840</td>\n",
       "      <td>6.0</td>\n",
       "      <td>The Embarcadero at Sansome St</td>\n",
       "      <td>37.804770</td>\n",
       "      <td>-122.403234</td>\n",
       "      <td>15.0</td>\n",
       "      <td>San Francisco Ferry Building (Harry Bridges Pl...</td>\n",
       "      <td>37.795392</td>\n",
       "      <td>-122.394203</td>\n",
       "      <td>6531</td>\n",
       "      <td>Customer</td>\n",
       "      <td>2000.0</td>\n",
       "      <td>Male</td>\n",
       "      <td>No</td>\n",
       "    </tr>\n",
       "    <tr>\n",
       "      <th>27</th>\n",
       "      <td>408</td>\n",
       "      <td>2019-02-28 23:48:08.2820</td>\n",
       "      <td>2019-02-28 23:54:56.9300</td>\n",
       "      <td>78.0</td>\n",
       "      <td>Folsom St at 9th St</td>\n",
       "      <td>37.773717</td>\n",
       "      <td>-122.411647</td>\n",
       "      <td>78.0</td>\n",
       "      <td>Folsom St at 9th St</td>\n",
       "      <td>37.773717</td>\n",
       "      <td>-122.411647</td>\n",
       "      <td>5410</td>\n",
       "      <td>Subscriber</td>\n",
       "      <td>1982.0</td>\n",
       "      <td>Male</td>\n",
       "      <td>No</td>\n",
       "    </tr>\n",
       "    <tr>\n",
       "      <th>28</th>\n",
       "      <td>650</td>\n",
       "      <td>2019-02-28 23:43:27.5030</td>\n",
       "      <td>2019-02-28 23:54:18.4510</td>\n",
       "      <td>258.0</td>\n",
       "      <td>University Ave at Oxford St</td>\n",
       "      <td>37.872355</td>\n",
       "      <td>-122.266447</td>\n",
       "      <td>263.0</td>\n",
       "      <td>Channing Way at San Pablo Ave</td>\n",
       "      <td>37.862827</td>\n",
       "      <td>-122.290230</td>\n",
       "      <td>4784</td>\n",
       "      <td>Customer</td>\n",
       "      <td>NaN</td>\n",
       "      <td>NaN</td>\n",
       "      <td>No</td>\n",
       "    </tr>\n",
       "    <tr>\n",
       "      <th>29</th>\n",
       "      <td>629</td>\n",
       "      <td>2019-02-28 23:43:48.6580</td>\n",
       "      <td>2019-02-28 23:54:18.2540</td>\n",
       "      <td>258.0</td>\n",
       "      <td>University Ave at Oxford St</td>\n",
       "      <td>37.872355</td>\n",
       "      <td>-122.266447</td>\n",
       "      <td>263.0</td>\n",
       "      <td>Channing Way at San Pablo Ave</td>\n",
       "      <td>37.862827</td>\n",
       "      <td>-122.290230</td>\n",
       "      <td>363</td>\n",
       "      <td>Subscriber</td>\n",
       "      <td>1995.0</td>\n",
       "      <td>Male</td>\n",
       "      <td>No</td>\n",
       "    </tr>\n",
       "    <tr>\n",
       "      <th>...</th>\n",
       "      <td>...</td>\n",
       "      <td>...</td>\n",
       "      <td>...</td>\n",
       "      <td>...</td>\n",
       "      <td>...</td>\n",
       "      <td>...</td>\n",
       "      <td>...</td>\n",
       "      <td>...</td>\n",
       "      <td>...</td>\n",
       "      <td>...</td>\n",
       "      <td>...</td>\n",
       "      <td>...</td>\n",
       "      <td>...</td>\n",
       "      <td>...</td>\n",
       "      <td>...</td>\n",
       "      <td>...</td>\n",
       "    </tr>\n",
       "    <tr>\n",
       "      <th>183382</th>\n",
       "      <td>961</td>\n",
       "      <td>2019-02-01 00:38:29.9040</td>\n",
       "      <td>2019-02-01 00:54:31.7320</td>\n",
       "      <td>95.0</td>\n",
       "      <td>Sanchez St at 15th St</td>\n",
       "      <td>37.766219</td>\n",
       "      <td>-122.431060</td>\n",
       "      <td>324.0</td>\n",
       "      <td>Union Square (Powell St at Post St)</td>\n",
       "      <td>37.788300</td>\n",
       "      <td>-122.408531</td>\n",
       "      <td>1565</td>\n",
       "      <td>Subscriber</td>\n",
       "      <td>1988.0</td>\n",
       "      <td>Male</td>\n",
       "      <td>No</td>\n",
       "    </tr>\n",
       "    <tr>\n",
       "      <th>183383</th>\n",
       "      <td>434</td>\n",
       "      <td>2019-02-01 00:47:11.6530</td>\n",
       "      <td>2019-02-01 00:54:26.3050</td>\n",
       "      <td>274.0</td>\n",
       "      <td>Oregon St at Adeline St</td>\n",
       "      <td>37.857567</td>\n",
       "      <td>-122.267558</td>\n",
       "      <td>244.0</td>\n",
       "      <td>Shattuck Ave at Hearst Ave</td>\n",
       "      <td>37.873676</td>\n",
       "      <td>-122.268487</td>\n",
       "      <td>4541</td>\n",
       "      <td>Customer</td>\n",
       "      <td>1997.0</td>\n",
       "      <td>Male</td>\n",
       "      <td>No</td>\n",
       "    </tr>\n",
       "    <tr>\n",
       "      <th>183384</th>\n",
       "      <td>184</td>\n",
       "      <td>2019-02-01 00:50:41.5790</td>\n",
       "      <td>2019-02-01 00:53:46.1240</td>\n",
       "      <td>316.0</td>\n",
       "      <td>San Salvador St at 1st St</td>\n",
       "      <td>37.330165</td>\n",
       "      <td>-121.885831</td>\n",
       "      <td>298.0</td>\n",
       "      <td>Oak St at 1st St</td>\n",
       "      <td>37.322125</td>\n",
       "      <td>-121.881090</td>\n",
       "      <td>4044</td>\n",
       "      <td>Subscriber</td>\n",
       "      <td>1991.0</td>\n",
       "      <td>Male</td>\n",
       "      <td>No</td>\n",
       "    </tr>\n",
       "    <tr>\n",
       "      <th>183385</th>\n",
       "      <td>400</td>\n",
       "      <td>2019-02-01 00:46:47.2760</td>\n",
       "      <td>2019-02-01 00:53:27.5960</td>\n",
       "      <td>220.0</td>\n",
       "      <td>San Pablo Ave at MLK Jr Way</td>\n",
       "      <td>37.811351</td>\n",
       "      <td>-122.273422</td>\n",
       "      <td>337.0</td>\n",
       "      <td>Webster St at 19th St</td>\n",
       "      <td>37.806970</td>\n",
       "      <td>-122.266588</td>\n",
       "      <td>3487</td>\n",
       "      <td>Subscriber</td>\n",
       "      <td>1945.0</td>\n",
       "      <td>Male</td>\n",
       "      <td>Yes</td>\n",
       "    </tr>\n",
       "    <tr>\n",
       "      <th>183386</th>\n",
       "      <td>425</td>\n",
       "      <td>2019-02-01 00:42:20.4720</td>\n",
       "      <td>2019-02-01 00:49:25.5150</td>\n",
       "      <td>239.0</td>\n",
       "      <td>Bancroft Way at Telegraph Ave</td>\n",
       "      <td>37.868813</td>\n",
       "      <td>-122.258764</td>\n",
       "      <td>245.0</td>\n",
       "      <td>Downtown Berkeley BART</td>\n",
       "      <td>37.870139</td>\n",
       "      <td>-122.268422</td>\n",
       "      <td>1377</td>\n",
       "      <td>Subscriber</td>\n",
       "      <td>1998.0</td>\n",
       "      <td>Male</td>\n",
       "      <td>Yes</td>\n",
       "    </tr>\n",
       "    <tr>\n",
       "      <th>183387</th>\n",
       "      <td>598</td>\n",
       "      <td>2019-02-01 00:39:12.6840</td>\n",
       "      <td>2019-02-01 00:49:10.7910</td>\n",
       "      <td>239.0</td>\n",
       "      <td>Bancroft Way at Telegraph Ave</td>\n",
       "      <td>37.868813</td>\n",
       "      <td>-122.258764</td>\n",
       "      <td>245.0</td>\n",
       "      <td>Downtown Berkeley BART</td>\n",
       "      <td>37.870139</td>\n",
       "      <td>-122.268422</td>\n",
       "      <td>2055</td>\n",
       "      <td>Subscriber</td>\n",
       "      <td>1999.0</td>\n",
       "      <td>Male</td>\n",
       "      <td>Yes</td>\n",
       "    </tr>\n",
       "    <tr>\n",
       "      <th>183388</th>\n",
       "      <td>490</td>\n",
       "      <td>2019-02-01 00:39:53.1120</td>\n",
       "      <td>2019-02-01 00:48:03.3380</td>\n",
       "      <td>61.0</td>\n",
       "      <td>Howard St at 8th St</td>\n",
       "      <td>37.776513</td>\n",
       "      <td>-122.411306</td>\n",
       "      <td>81.0</td>\n",
       "      <td>Berry St at 4th St</td>\n",
       "      <td>37.775880</td>\n",
       "      <td>-122.393170</td>\n",
       "      <td>5411</td>\n",
       "      <td>Subscriber</td>\n",
       "      <td>1927.0</td>\n",
       "      <td>Male</td>\n",
       "      <td>No</td>\n",
       "    </tr>\n",
       "    <tr>\n",
       "      <th>183389</th>\n",
       "      <td>184</td>\n",
       "      <td>2019-02-01 00:43:56.5560</td>\n",
       "      <td>2019-02-01 00:47:01.0090</td>\n",
       "      <td>66.0</td>\n",
       "      <td>3rd St at Townsend St</td>\n",
       "      <td>37.778742</td>\n",
       "      <td>-122.392741</td>\n",
       "      <td>47.0</td>\n",
       "      <td>4th St at Harrison St</td>\n",
       "      <td>37.780955</td>\n",
       "      <td>-122.399749</td>\n",
       "      <td>4960</td>\n",
       "      <td>Subscriber</td>\n",
       "      <td>1985.0</td>\n",
       "      <td>Other</td>\n",
       "      <td>No</td>\n",
       "    </tr>\n",
       "    <tr>\n",
       "      <th>183390</th>\n",
       "      <td>232</td>\n",
       "      <td>2019-02-01 00:40:00.0350</td>\n",
       "      <td>2019-02-01 00:43:52.8800</td>\n",
       "      <td>239.0</td>\n",
       "      <td>Bancroft Way at Telegraph Ave</td>\n",
       "      <td>37.868813</td>\n",
       "      <td>-122.258764</td>\n",
       "      <td>266.0</td>\n",
       "      <td>Parker St at Fulton St</td>\n",
       "      <td>37.862464</td>\n",
       "      <td>-122.264791</td>\n",
       "      <td>3756</td>\n",
       "      <td>Subscriber</td>\n",
       "      <td>1999.0</td>\n",
       "      <td>Male</td>\n",
       "      <td>No</td>\n",
       "    </tr>\n",
       "    <tr>\n",
       "      <th>183391</th>\n",
       "      <td>269</td>\n",
       "      <td>2019-02-01 00:37:47.5270</td>\n",
       "      <td>2019-02-01 00:42:17.0600</td>\n",
       "      <td>119.0</td>\n",
       "      <td>18th St at Noe St</td>\n",
       "      <td>37.761047</td>\n",
       "      <td>-122.432642</td>\n",
       "      <td>85.0</td>\n",
       "      <td>Church St at Duboce Ave</td>\n",
       "      <td>37.770083</td>\n",
       "      <td>-122.429156</td>\n",
       "      <td>5540</td>\n",
       "      <td>Subscriber</td>\n",
       "      <td>1980.0</td>\n",
       "      <td>Male</td>\n",
       "      <td>Yes</td>\n",
       "    </tr>\n",
       "    <tr>\n",
       "      <th>183392</th>\n",
       "      <td>1289</td>\n",
       "      <td>2019-02-01 00:19:45.6410</td>\n",
       "      <td>2019-02-01 00:41:15.5580</td>\n",
       "      <td>8.0</td>\n",
       "      <td>The Embarcadero at Vallejo St</td>\n",
       "      <td>37.799953</td>\n",
       "      <td>-122.398525</td>\n",
       "      <td>350.0</td>\n",
       "      <td>8th St at Brannan St</td>\n",
       "      <td>37.771431</td>\n",
       "      <td>-122.405787</td>\n",
       "      <td>3506</td>\n",
       "      <td>Subscriber</td>\n",
       "      <td>1993.0</td>\n",
       "      <td>Male</td>\n",
       "      <td>No</td>\n",
       "    </tr>\n",
       "    <tr>\n",
       "      <th>183393</th>\n",
       "      <td>155</td>\n",
       "      <td>2019-02-01 00:37:26.3680</td>\n",
       "      <td>2019-02-01 00:40:01.5760</td>\n",
       "      <td>116.0</td>\n",
       "      <td>Mississippi St at 17th St</td>\n",
       "      <td>37.764802</td>\n",
       "      <td>-122.394771</td>\n",
       "      <td>93.0</td>\n",
       "      <td>4th St at Mission Bay Blvd S</td>\n",
       "      <td>37.770407</td>\n",
       "      <td>-122.391198</td>\n",
       "      <td>5406</td>\n",
       "      <td>Subscriber</td>\n",
       "      <td>1985.0</td>\n",
       "      <td>Male</td>\n",
       "      <td>No</td>\n",
       "    </tr>\n",
       "    <tr>\n",
       "      <th>183394</th>\n",
       "      <td>720</td>\n",
       "      <td>2019-02-01 00:27:33.8340</td>\n",
       "      <td>2019-02-01 00:39:34.2330</td>\n",
       "      <td>26.0</td>\n",
       "      <td>1st St at Folsom St</td>\n",
       "      <td>37.787290</td>\n",
       "      <td>-122.394380</td>\n",
       "      <td>96.0</td>\n",
       "      <td>Dolores St at 15th St</td>\n",
       "      <td>37.766210</td>\n",
       "      <td>-122.426614</td>\n",
       "      <td>5331</td>\n",
       "      <td>Subscriber</td>\n",
       "      <td>1975.0</td>\n",
       "      <td>Male</td>\n",
       "      <td>No</td>\n",
       "    </tr>\n",
       "    <tr>\n",
       "      <th>183395</th>\n",
       "      <td>95</td>\n",
       "      <td>2019-02-01 00:37:23.1150</td>\n",
       "      <td>2019-02-01 00:38:58.3460</td>\n",
       "      <td>276.0</td>\n",
       "      <td>Julian St at The Alameda</td>\n",
       "      <td>37.332233</td>\n",
       "      <td>-121.912517</td>\n",
       "      <td>277.0</td>\n",
       "      <td>Morrison Ave at Julian St</td>\n",
       "      <td>37.333658</td>\n",
       "      <td>-121.908586</td>\n",
       "      <td>4299</td>\n",
       "      <td>Subscriber</td>\n",
       "      <td>1993.0</td>\n",
       "      <td>Male</td>\n",
       "      <td>Yes</td>\n",
       "    </tr>\n",
       "    <tr>\n",
       "      <th>183396</th>\n",
       "      <td>576</td>\n",
       "      <td>2019-02-01 00:27:06.5030</td>\n",
       "      <td>2019-02-01 00:36:43.4520</td>\n",
       "      <td>181.0</td>\n",
       "      <td>Grand Ave at Webster St</td>\n",
       "      <td>37.811377</td>\n",
       "      <td>-122.265192</td>\n",
       "      <td>212.0</td>\n",
       "      <td>Mosswood Park</td>\n",
       "      <td>37.824893</td>\n",
       "      <td>-122.260437</td>\n",
       "      <td>3561</td>\n",
       "      <td>Subscriber</td>\n",
       "      <td>1991.0</td>\n",
       "      <td>Male</td>\n",
       "      <td>Yes</td>\n",
       "    </tr>\n",
       "    <tr>\n",
       "      <th>183397</th>\n",
       "      <td>438</td>\n",
       "      <td>2019-02-01 00:28:56.1010</td>\n",
       "      <td>2019-02-01 00:36:14.5340</td>\n",
       "      <td>62.0</td>\n",
       "      <td>Victoria Manalo Draves Park</td>\n",
       "      <td>37.777791</td>\n",
       "      <td>-122.406432</td>\n",
       "      <td>59.0</td>\n",
       "      <td>S Van Ness Ave at Market St</td>\n",
       "      <td>37.774814</td>\n",
       "      <td>-122.418954</td>\n",
       "      <td>5531</td>\n",
       "      <td>Subscriber</td>\n",
       "      <td>1988.0</td>\n",
       "      <td>Male</td>\n",
       "      <td>No</td>\n",
       "    </tr>\n",
       "    <tr>\n",
       "      <th>183398</th>\n",
       "      <td>1019</td>\n",
       "      <td>2019-02-01 00:16:59.1550</td>\n",
       "      <td>2019-02-01 00:33:58.5900</td>\n",
       "      <td>339.0</td>\n",
       "      <td>Jackson St at 11th St</td>\n",
       "      <td>37.800002</td>\n",
       "      <td>-122.266438</td>\n",
       "      <td>46.0</td>\n",
       "      <td>San Antonio Park</td>\n",
       "      <td>37.790140</td>\n",
       "      <td>-122.242373</td>\n",
       "      <td>3233</td>\n",
       "      <td>Subscriber</td>\n",
       "      <td>1982.0</td>\n",
       "      <td>Male</td>\n",
       "      <td>No</td>\n",
       "    </tr>\n",
       "    <tr>\n",
       "      <th>183399</th>\n",
       "      <td>958</td>\n",
       "      <td>2019-02-01 00:12:24.2470</td>\n",
       "      <td>2019-02-01 00:28:22.7380</td>\n",
       "      <td>67.0</td>\n",
       "      <td>San Francisco Caltrain Station 2  (Townsend St...</td>\n",
       "      <td>37.776639</td>\n",
       "      <td>-122.395526</td>\n",
       "      <td>58.0</td>\n",
       "      <td>Market St at 10th St</td>\n",
       "      <td>37.776619</td>\n",
       "      <td>-122.417385</td>\n",
       "      <td>3392</td>\n",
       "      <td>Subscriber</td>\n",
       "      <td>1993.0</td>\n",
       "      <td>Male</td>\n",
       "      <td>No</td>\n",
       "    </tr>\n",
       "    <tr>\n",
       "      <th>183400</th>\n",
       "      <td>250</td>\n",
       "      <td>2019-02-01 00:23:52.6110</td>\n",
       "      <td>2019-02-01 00:28:02.6790</td>\n",
       "      <td>356.0</td>\n",
       "      <td>Valencia St at Clinton Park</td>\n",
       "      <td>37.769188</td>\n",
       "      <td>-122.422285</td>\n",
       "      <td>58.0</td>\n",
       "      <td>Market St at 10th St</td>\n",
       "      <td>37.776619</td>\n",
       "      <td>-122.417385</td>\n",
       "      <td>4962</td>\n",
       "      <td>Subscriber</td>\n",
       "      <td>1984.0</td>\n",
       "      <td>Male</td>\n",
       "      <td>No</td>\n",
       "    </tr>\n",
       "    <tr>\n",
       "      <th>183401</th>\n",
       "      <td>383</td>\n",
       "      <td>2019-02-01 00:16:48.0620</td>\n",
       "      <td>2019-02-01 00:23:11.2010</td>\n",
       "      <td>186.0</td>\n",
       "      <td>Lakeside Dr at 14th St</td>\n",
       "      <td>37.801319</td>\n",
       "      <td>-122.262642</td>\n",
       "      <td>181.0</td>\n",
       "      <td>Grand Ave at Webster St</td>\n",
       "      <td>37.811377</td>\n",
       "      <td>-122.265192</td>\n",
       "      <td>4505</td>\n",
       "      <td>Subscriber</td>\n",
       "      <td>1991.0</td>\n",
       "      <td>Male</td>\n",
       "      <td>Yes</td>\n",
       "    </tr>\n",
       "    <tr>\n",
       "      <th>183402</th>\n",
       "      <td>122</td>\n",
       "      <td>2019-02-01 00:17:32.2580</td>\n",
       "      <td>2019-02-01 00:19:34.9380</td>\n",
       "      <td>119.0</td>\n",
       "      <td>18th St at Noe St</td>\n",
       "      <td>37.761047</td>\n",
       "      <td>-122.432642</td>\n",
       "      <td>120.0</td>\n",
       "      <td>Mission Dolores Park</td>\n",
       "      <td>37.761420</td>\n",
       "      <td>-122.426435</td>\n",
       "      <td>4326</td>\n",
       "      <td>Subscriber</td>\n",
       "      <td>NaN</td>\n",
       "      <td>NaN</td>\n",
       "      <td>No</td>\n",
       "    </tr>\n",
       "    <tr>\n",
       "      <th>183403</th>\n",
       "      <td>249</td>\n",
       "      <td>2019-02-01 00:15:12.0670</td>\n",
       "      <td>2019-02-01 00:19:21.6990</td>\n",
       "      <td>256.0</td>\n",
       "      <td>Hearst Ave at Euclid Ave</td>\n",
       "      <td>37.875112</td>\n",
       "      <td>-122.260553</td>\n",
       "      <td>247.0</td>\n",
       "      <td>Fulton St at Bancroft Way</td>\n",
       "      <td>37.867789</td>\n",
       "      <td>-122.265896</td>\n",
       "      <td>4642</td>\n",
       "      <td>Subscriber</td>\n",
       "      <td>2000.0</td>\n",
       "      <td>Male</td>\n",
       "      <td>No</td>\n",
       "    </tr>\n",
       "    <tr>\n",
       "      <th>183404</th>\n",
       "      <td>256</td>\n",
       "      <td>2019-02-01 00:12:50.5540</td>\n",
       "      <td>2019-02-01 00:17:07.3620</td>\n",
       "      <td>241.0</td>\n",
       "      <td>Ashby BART Station</td>\n",
       "      <td>37.852477</td>\n",
       "      <td>-122.270213</td>\n",
       "      <td>248.0</td>\n",
       "      <td>Telegraph Ave at Ashby Ave</td>\n",
       "      <td>37.855956</td>\n",
       "      <td>-122.259795</td>\n",
       "      <td>4845</td>\n",
       "      <td>Subscriber</td>\n",
       "      <td>1980.0</td>\n",
       "      <td>Male</td>\n",
       "      <td>Yes</td>\n",
       "    </tr>\n",
       "    <tr>\n",
       "      <th>183405</th>\n",
       "      <td>111</td>\n",
       "      <td>2019-02-01 00:14:49.8740</td>\n",
       "      <td>2019-02-01 00:16:41.3010</td>\n",
       "      <td>324.0</td>\n",
       "      <td>Union Square (Powell St at Post St)</td>\n",
       "      <td>37.788300</td>\n",
       "      <td>-122.408531</td>\n",
       "      <td>19.0</td>\n",
       "      <td>Post St at Kearny St</td>\n",
       "      <td>37.788975</td>\n",
       "      <td>-122.403452</td>\n",
       "      <td>4832</td>\n",
       "      <td>Subscriber</td>\n",
       "      <td>1984.0</td>\n",
       "      <td>Male</td>\n",
       "      <td>No</td>\n",
       "    </tr>\n",
       "    <tr>\n",
       "      <th>183406</th>\n",
       "      <td>706</td>\n",
       "      <td>2019-02-01 00:04:40.6160</td>\n",
       "      <td>2019-02-01 00:16:27.0800</td>\n",
       "      <td>138.0</td>\n",
       "      <td>Jersey St at Church St</td>\n",
       "      <td>37.750900</td>\n",
       "      <td>-122.427411</td>\n",
       "      <td>78.0</td>\n",
       "      <td>Folsom St at 9th St</td>\n",
       "      <td>37.773717</td>\n",
       "      <td>-122.411647</td>\n",
       "      <td>5017</td>\n",
       "      <td>Subscriber</td>\n",
       "      <td>1988.0</td>\n",
       "      <td>Male</td>\n",
       "      <td>No</td>\n",
       "    </tr>\n",
       "    <tr>\n",
       "      <th>183407</th>\n",
       "      <td>480</td>\n",
       "      <td>2019-02-01 00:04:49.7240</td>\n",
       "      <td>2019-02-01 00:12:50.0340</td>\n",
       "      <td>27.0</td>\n",
       "      <td>Beale St at Harrison St</td>\n",
       "      <td>37.788059</td>\n",
       "      <td>-122.391865</td>\n",
       "      <td>324.0</td>\n",
       "      <td>Union Square (Powell St at Post St)</td>\n",
       "      <td>37.788300</td>\n",
       "      <td>-122.408531</td>\n",
       "      <td>4832</td>\n",
       "      <td>Subscriber</td>\n",
       "      <td>1996.0</td>\n",
       "      <td>Male</td>\n",
       "      <td>No</td>\n",
       "    </tr>\n",
       "    <tr>\n",
       "      <th>183408</th>\n",
       "      <td>313</td>\n",
       "      <td>2019-02-01 00:05:34.7440</td>\n",
       "      <td>2019-02-01 00:10:48.5020</td>\n",
       "      <td>21.0</td>\n",
       "      <td>Montgomery St BART Station (Market St at 2nd St)</td>\n",
       "      <td>37.789625</td>\n",
       "      <td>-122.400811</td>\n",
       "      <td>66.0</td>\n",
       "      <td>3rd St at Townsend St</td>\n",
       "      <td>37.778742</td>\n",
       "      <td>-122.392741</td>\n",
       "      <td>4960</td>\n",
       "      <td>Subscriber</td>\n",
       "      <td>1984.0</td>\n",
       "      <td>Male</td>\n",
       "      <td>No</td>\n",
       "    </tr>\n",
       "    <tr>\n",
       "      <th>183409</th>\n",
       "      <td>141</td>\n",
       "      <td>2019-02-01 00:06:05.5490</td>\n",
       "      <td>2019-02-01 00:08:27.2200</td>\n",
       "      <td>278.0</td>\n",
       "      <td>The Alameda at Bush St</td>\n",
       "      <td>37.331932</td>\n",
       "      <td>-121.904888</td>\n",
       "      <td>277.0</td>\n",
       "      <td>Morrison Ave at Julian St</td>\n",
       "      <td>37.333658</td>\n",
       "      <td>-121.908586</td>\n",
       "      <td>3824</td>\n",
       "      <td>Subscriber</td>\n",
       "      <td>1990.0</td>\n",
       "      <td>Male</td>\n",
       "      <td>Yes</td>\n",
       "    </tr>\n",
       "    <tr>\n",
       "      <th>183410</th>\n",
       "      <td>139</td>\n",
       "      <td>2019-02-01 00:05:34.3600</td>\n",
       "      <td>2019-02-01 00:07:54.2870</td>\n",
       "      <td>220.0</td>\n",
       "      <td>San Pablo Ave at MLK Jr Way</td>\n",
       "      <td>37.811351</td>\n",
       "      <td>-122.273422</td>\n",
       "      <td>216.0</td>\n",
       "      <td>San Pablo Ave at 27th St</td>\n",
       "      <td>37.817827</td>\n",
       "      <td>-122.275698</td>\n",
       "      <td>5095</td>\n",
       "      <td>Subscriber</td>\n",
       "      <td>1988.0</td>\n",
       "      <td>Male</td>\n",
       "      <td>No</td>\n",
       "    </tr>\n",
       "    <tr>\n",
       "      <th>183411</th>\n",
       "      <td>271</td>\n",
       "      <td>2019-02-01 00:00:20.6360</td>\n",
       "      <td>2019-02-01 00:04:52.0580</td>\n",
       "      <td>24.0</td>\n",
       "      <td>Spear St at Folsom St</td>\n",
       "      <td>37.789677</td>\n",
       "      <td>-122.390428</td>\n",
       "      <td>37.0</td>\n",
       "      <td>2nd St at Folsom St</td>\n",
       "      <td>37.785000</td>\n",
       "      <td>-122.395936</td>\n",
       "      <td>1057</td>\n",
       "      <td>Subscriber</td>\n",
       "      <td>1989.0</td>\n",
       "      <td>Male</td>\n",
       "      <td>No</td>\n",
       "    </tr>\n",
       "  </tbody>\n",
       "</table>\n",
       "<p>183412 rows × 16 columns</p>\n",
       "</div>"
      ],
      "text/plain": [
       "        duration_sec                start_time                  end_time  \\\n",
       "0              52185  2019-02-28 17:32:10.1450  2019-03-01 08:01:55.9750   \n",
       "1              42521  2019-02-28 18:53:21.7890  2019-03-01 06:42:03.0560   \n",
       "2              61854  2019-02-28 12:13:13.2180  2019-03-01 05:24:08.1460   \n",
       "3              36490  2019-02-28 17:54:26.0100  2019-03-01 04:02:36.8420   \n",
       "4               1585  2019-02-28 23:54:18.5490  2019-03-01 00:20:44.0740   \n",
       "5               1793  2019-02-28 23:49:58.6320  2019-03-01 00:19:51.7600   \n",
       "6               1147  2019-02-28 23:55:35.1040  2019-03-01 00:14:42.5880   \n",
       "7               1615  2019-02-28 23:41:06.7660  2019-03-01 00:08:02.7560   \n",
       "8               1570  2019-02-28 23:41:48.7900  2019-03-01 00:07:59.7150   \n",
       "9               1049  2019-02-28 23:49:47.6990  2019-03-01 00:07:17.0250   \n",
       "10               458  2019-02-28 23:57:57.2110  2019-03-01 00:05:35.4350   \n",
       "11               506  2019-02-28 23:56:55.5400  2019-03-01 00:05:21.7330   \n",
       "12              1176  2019-02-28 23:45:12.6510  2019-03-01 00:04:49.1840   \n",
       "13               915  2019-02-28 23:49:06.0620  2019-03-01 00:04:21.8670   \n",
       "14               395  2019-02-28 23:56:26.8480  2019-03-01 00:03:01.9470   \n",
       "15               208  2019-02-28 23:59:18.5480  2019-03-01 00:02:47.2280   \n",
       "16               548  2019-02-28 23:50:41.6070  2019-02-28 23:59:49.9530   \n",
       "17               674  2019-02-28 23:48:25.0950  2019-02-28 23:59:40.0920   \n",
       "18               557  2019-02-28 23:49:01.8510  2019-02-28 23:58:19.8090   \n",
       "19               874  2019-02-28 23:43:05.1830  2019-02-28 23:57:39.7960   \n",
       "20               417  2019-02-28 23:50:38.2390  2019-02-28 23:57:35.8520   \n",
       "21               414  2019-02-28 23:50:26.8790  2019-02-28 23:57:21.1300   \n",
       "22               743  2019-02-28 23:44:56.4390  2019-02-28 23:57:20.2120   \n",
       "23               367  2019-02-28 23:51:06.0140  2019-02-28 23:57:13.3120   \n",
       "24               252  2019-02-28 23:52:51.1640  2019-02-28 23:57:03.9760   \n",
       "25               360  2019-02-28 23:50:31.4310  2019-02-28 23:56:31.8910   \n",
       "26               385  2019-02-28 23:49:24.3990  2019-02-28 23:55:50.2840   \n",
       "27               408  2019-02-28 23:48:08.2820  2019-02-28 23:54:56.9300   \n",
       "28               650  2019-02-28 23:43:27.5030  2019-02-28 23:54:18.4510   \n",
       "29               629  2019-02-28 23:43:48.6580  2019-02-28 23:54:18.2540   \n",
       "...              ...                       ...                       ...   \n",
       "183382           961  2019-02-01 00:38:29.9040  2019-02-01 00:54:31.7320   \n",
       "183383           434  2019-02-01 00:47:11.6530  2019-02-01 00:54:26.3050   \n",
       "183384           184  2019-02-01 00:50:41.5790  2019-02-01 00:53:46.1240   \n",
       "183385           400  2019-02-01 00:46:47.2760  2019-02-01 00:53:27.5960   \n",
       "183386           425  2019-02-01 00:42:20.4720  2019-02-01 00:49:25.5150   \n",
       "183387           598  2019-02-01 00:39:12.6840  2019-02-01 00:49:10.7910   \n",
       "183388           490  2019-02-01 00:39:53.1120  2019-02-01 00:48:03.3380   \n",
       "183389           184  2019-02-01 00:43:56.5560  2019-02-01 00:47:01.0090   \n",
       "183390           232  2019-02-01 00:40:00.0350  2019-02-01 00:43:52.8800   \n",
       "183391           269  2019-02-01 00:37:47.5270  2019-02-01 00:42:17.0600   \n",
       "183392          1289  2019-02-01 00:19:45.6410  2019-02-01 00:41:15.5580   \n",
       "183393           155  2019-02-01 00:37:26.3680  2019-02-01 00:40:01.5760   \n",
       "183394           720  2019-02-01 00:27:33.8340  2019-02-01 00:39:34.2330   \n",
       "183395            95  2019-02-01 00:37:23.1150  2019-02-01 00:38:58.3460   \n",
       "183396           576  2019-02-01 00:27:06.5030  2019-02-01 00:36:43.4520   \n",
       "183397           438  2019-02-01 00:28:56.1010  2019-02-01 00:36:14.5340   \n",
       "183398          1019  2019-02-01 00:16:59.1550  2019-02-01 00:33:58.5900   \n",
       "183399           958  2019-02-01 00:12:24.2470  2019-02-01 00:28:22.7380   \n",
       "183400           250  2019-02-01 00:23:52.6110  2019-02-01 00:28:02.6790   \n",
       "183401           383  2019-02-01 00:16:48.0620  2019-02-01 00:23:11.2010   \n",
       "183402           122  2019-02-01 00:17:32.2580  2019-02-01 00:19:34.9380   \n",
       "183403           249  2019-02-01 00:15:12.0670  2019-02-01 00:19:21.6990   \n",
       "183404           256  2019-02-01 00:12:50.5540  2019-02-01 00:17:07.3620   \n",
       "183405           111  2019-02-01 00:14:49.8740  2019-02-01 00:16:41.3010   \n",
       "183406           706  2019-02-01 00:04:40.6160  2019-02-01 00:16:27.0800   \n",
       "183407           480  2019-02-01 00:04:49.7240  2019-02-01 00:12:50.0340   \n",
       "183408           313  2019-02-01 00:05:34.7440  2019-02-01 00:10:48.5020   \n",
       "183409           141  2019-02-01 00:06:05.5490  2019-02-01 00:08:27.2200   \n",
       "183410           139  2019-02-01 00:05:34.3600  2019-02-01 00:07:54.2870   \n",
       "183411           271  2019-02-01 00:00:20.6360  2019-02-01 00:04:52.0580   \n",
       "\n",
       "        start_station_id                                 start_station_name  \\\n",
       "0                   21.0   Montgomery St BART Station (Market St at 2nd St)   \n",
       "1                   23.0                      The Embarcadero at Steuart St   \n",
       "2                   86.0                            Market St at Dolores St   \n",
       "3                  375.0                            Grove St at Masonic Ave   \n",
       "4                    7.0                                Frank H Ogawa Plaza   \n",
       "5                   93.0                       4th St at Mission Bay Blvd S   \n",
       "6                  300.0                               Palm St at Willow St   \n",
       "7                   10.0                         Washington St at Kearny St   \n",
       "8                   10.0                         Washington St at Kearny St   \n",
       "9                   19.0                               Post St at Kearny St   \n",
       "10                 370.0                                Jones St at Post St   \n",
       "11                  44.0  Civic Center/UN Plaza BART Station (Market St ...   \n",
       "12                 127.0                             Valencia St at 21st St   \n",
       "13                 252.0                       Channing Way at Shattuck Ave   \n",
       "14                 243.0                        Bancroft Way at College Ave   \n",
       "15                 349.0                               Howard St at Mary St   \n",
       "16                 131.0                              22nd St at Dolores St   \n",
       "17                  74.0                              Laguna St at Hayes St   \n",
       "18                 321.0                                   5th St at Folsom   \n",
       "19                 180.0                           Telegraph Ave at 23rd St   \n",
       "20                  72.0                                Page St at Scott St   \n",
       "21                 163.0                          Lake Merritt BART Station   \n",
       "22                 370.0                                Jones St at Post St   \n",
       "23                 243.0                        Bancroft Way at College Ave   \n",
       "24                 190.0                                 West St at 40th St   \n",
       "25                 163.0                          Lake Merritt BART Station   \n",
       "26                   6.0                      The Embarcadero at Sansome St   \n",
       "27                  78.0                                Folsom St at 9th St   \n",
       "28                 258.0                        University Ave at Oxford St   \n",
       "29                 258.0                        University Ave at Oxford St   \n",
       "...                  ...                                                ...   \n",
       "183382              95.0                              Sanchez St at 15th St   \n",
       "183383             274.0                            Oregon St at Adeline St   \n",
       "183384             316.0                          San Salvador St at 1st St   \n",
       "183385             220.0                        San Pablo Ave at MLK Jr Way   \n",
       "183386             239.0                      Bancroft Way at Telegraph Ave   \n",
       "183387             239.0                      Bancroft Way at Telegraph Ave   \n",
       "183388              61.0                                Howard St at 8th St   \n",
       "183389              66.0                              3rd St at Townsend St   \n",
       "183390             239.0                      Bancroft Way at Telegraph Ave   \n",
       "183391             119.0                                  18th St at Noe St   \n",
       "183392               8.0                      The Embarcadero at Vallejo St   \n",
       "183393             116.0                          Mississippi St at 17th St   \n",
       "183394              26.0                                1st St at Folsom St   \n",
       "183395             276.0                           Julian St at The Alameda   \n",
       "183396             181.0                            Grand Ave at Webster St   \n",
       "183397              62.0                        Victoria Manalo Draves Park   \n",
       "183398             339.0                              Jackson St at 11th St   \n",
       "183399              67.0  San Francisco Caltrain Station 2  (Townsend St...   \n",
       "183400             356.0                        Valencia St at Clinton Park   \n",
       "183401             186.0                             Lakeside Dr at 14th St   \n",
       "183402             119.0                                  18th St at Noe St   \n",
       "183403             256.0                           Hearst Ave at Euclid Ave   \n",
       "183404             241.0                                 Ashby BART Station   \n",
       "183405             324.0                Union Square (Powell St at Post St)   \n",
       "183406             138.0                             Jersey St at Church St   \n",
       "183407              27.0                            Beale St at Harrison St   \n",
       "183408              21.0   Montgomery St BART Station (Market St at 2nd St)   \n",
       "183409             278.0                             The Alameda at Bush St   \n",
       "183410             220.0                        San Pablo Ave at MLK Jr Way   \n",
       "183411              24.0                              Spear St at Folsom St   \n",
       "\n",
       "        start_station_latitude  start_station_longitude  end_station_id  \\\n",
       "0                    37.789625              -122.400811            13.0   \n",
       "1                    37.791464              -122.391034            81.0   \n",
       "2                    37.769305              -122.426826             3.0   \n",
       "3                    37.774836              -122.446546            70.0   \n",
       "4                    37.804562              -122.271738           222.0   \n",
       "5                    37.770407              -122.391198           323.0   \n",
       "6                    37.317298              -121.884995           312.0   \n",
       "7                    37.795393              -122.404770           127.0   \n",
       "8                    37.795393              -122.404770           127.0   \n",
       "9                    37.788975              -122.403452           121.0   \n",
       "10                   37.787327              -122.413278            43.0   \n",
       "11                   37.781074              -122.411738           343.0   \n",
       "12                   37.756708              -122.421025           323.0   \n",
       "13                   37.865847              -122.267443           244.0   \n",
       "14                   37.869360              -122.254337           252.0   \n",
       "15                   37.781010              -122.405666            60.0   \n",
       "16                   37.755000              -122.425728            71.0   \n",
       "17                   37.776435              -122.426244           336.0   \n",
       "18                   37.780146              -122.403071            75.0   \n",
       "19                   37.812678              -122.268773           180.0   \n",
       "20                   37.772406              -122.435650           107.0   \n",
       "21                   37.797320              -122.265320           221.0   \n",
       "22                   37.787327              -122.413278            52.0   \n",
       "23                   37.869360              -122.254337           269.0   \n",
       "24                   37.830223              -122.270950           189.0   \n",
       "25                   37.797320              -122.265320           196.0   \n",
       "26                   37.804770              -122.403234            15.0   \n",
       "27                   37.773717              -122.411647            78.0   \n",
       "28                   37.872355              -122.266447           263.0   \n",
       "29                   37.872355              -122.266447           263.0   \n",
       "...                        ...                      ...             ...   \n",
       "183382               37.766219              -122.431060           324.0   \n",
       "183383               37.857567              -122.267558           244.0   \n",
       "183384               37.330165              -121.885831           298.0   \n",
       "183385               37.811351              -122.273422           337.0   \n",
       "183386               37.868813              -122.258764           245.0   \n",
       "183387               37.868813              -122.258764           245.0   \n",
       "183388               37.776513              -122.411306            81.0   \n",
       "183389               37.778742              -122.392741            47.0   \n",
       "183390               37.868813              -122.258764           266.0   \n",
       "183391               37.761047              -122.432642            85.0   \n",
       "183392               37.799953              -122.398525           350.0   \n",
       "183393               37.764802              -122.394771            93.0   \n",
       "183394               37.787290              -122.394380            96.0   \n",
       "183395               37.332233              -121.912517           277.0   \n",
       "183396               37.811377              -122.265192           212.0   \n",
       "183397               37.777791              -122.406432            59.0   \n",
       "183398               37.800002              -122.266438            46.0   \n",
       "183399               37.776639              -122.395526            58.0   \n",
       "183400               37.769188              -122.422285            58.0   \n",
       "183401               37.801319              -122.262642           181.0   \n",
       "183402               37.761047              -122.432642           120.0   \n",
       "183403               37.875112              -122.260553           247.0   \n",
       "183404               37.852477              -122.270213           248.0   \n",
       "183405               37.788300              -122.408531            19.0   \n",
       "183406               37.750900              -122.427411            78.0   \n",
       "183407               37.788059              -122.391865           324.0   \n",
       "183408               37.789625              -122.400811            66.0   \n",
       "183409               37.331932              -121.904888           277.0   \n",
       "183410               37.811351              -122.273422           216.0   \n",
       "183411               37.789677              -122.390428            37.0   \n",
       "\n",
       "                                         end_station_name  \\\n",
       "0                          Commercial St at Montgomery St   \n",
       "1                                      Berry St at 4th St   \n",
       "2            Powell St BART Station (Market St at 4th St)   \n",
       "3                                  Central Ave at Fell St   \n",
       "4                                   10th Ave at E 15th St   \n",
       "5                                      Broadway at Kearny   \n",
       "6                                San Jose Diridon Station   \n",
       "7                                  Valencia St at 21st St   \n",
       "8                                  Valencia St at 21st St   \n",
       "9                                      Mission Playground   \n",
       "10      San Francisco Public Library (Grove St at Hyde...   \n",
       "11                                    Bryant St at 2nd St   \n",
       "12                                     Broadway at Kearny   \n",
       "13                             Shattuck Ave at Hearst Ave   \n",
       "14                           Channing Way at Shattuck Ave   \n",
       "15                                   8th St at Ringold St   \n",
       "16                                 Broderick St at Oak St   \n",
       "17                            Potrero Ave and Mariposa St   \n",
       "18                               Market St at Franklin St   \n",
       "19                               Telegraph Ave at 23rd St   \n",
       "20                                  17th St at Dolores St   \n",
       "21              6th Ave at E 12th St (Temporary Location)   \n",
       "22                              McAllister St at Baker St   \n",
       "23                           Telegraph Ave at Carleton St   \n",
       "24                                    Genoa St at 55th St   \n",
       "25                                Grand Ave at Perkins St   \n",
       "26      San Francisco Ferry Building (Harry Bridges Pl...   \n",
       "27                                    Folsom St at 9th St   \n",
       "28                          Channing Way at San Pablo Ave   \n",
       "29                          Channing Way at San Pablo Ave   \n",
       "...                                                   ...   \n",
       "183382                Union Square (Powell St at Post St)   \n",
       "183383                         Shattuck Ave at Hearst Ave   \n",
       "183384                                   Oak St at 1st St   \n",
       "183385                              Webster St at 19th St   \n",
       "183386                             Downtown Berkeley BART   \n",
       "183387                             Downtown Berkeley BART   \n",
       "183388                                 Berry St at 4th St   \n",
       "183389                              4th St at Harrison St   \n",
       "183390                             Parker St at Fulton St   \n",
       "183391                            Church St at Duboce Ave   \n",
       "183392                               8th St at Brannan St   \n",
       "183393                       4th St at Mission Bay Blvd S   \n",
       "183394                              Dolores St at 15th St   \n",
       "183395                          Morrison Ave at Julian St   \n",
       "183396                                      Mosswood Park   \n",
       "183397                        S Van Ness Ave at Market St   \n",
       "183398                                   San Antonio Park   \n",
       "183399                               Market St at 10th St   \n",
       "183400                               Market St at 10th St   \n",
       "183401                            Grand Ave at Webster St   \n",
       "183402                               Mission Dolores Park   \n",
       "183403                          Fulton St at Bancroft Way   \n",
       "183404                         Telegraph Ave at Ashby Ave   \n",
       "183405                               Post St at Kearny St   \n",
       "183406                                Folsom St at 9th St   \n",
       "183407                Union Square (Powell St at Post St)   \n",
       "183408                              3rd St at Townsend St   \n",
       "183409                          Morrison Ave at Julian St   \n",
       "183410                           San Pablo Ave at 27th St   \n",
       "183411                                2nd St at Folsom St   \n",
       "\n",
       "        end_station_latitude  end_station_longitude  bike_id   user_type  \\\n",
       "0                  37.794231            -122.402923     4902    Customer   \n",
       "1                  37.775880            -122.393170     2535    Customer   \n",
       "2                  37.786375            -122.404904     5905    Customer   \n",
       "3                  37.773311            -122.444293     6638  Subscriber   \n",
       "4                  37.792714            -122.248780     4898  Subscriber   \n",
       "5                  37.798014            -122.405950     5200  Subscriber   \n",
       "6                  37.329732            -121.901782     3803  Subscriber   \n",
       "7                  37.756708            -122.421025     6329  Subscriber   \n",
       "8                  37.756708            -122.421025     6548  Subscriber   \n",
       "9                  37.759210            -122.421339     6488  Subscriber   \n",
       "10                 37.778768            -122.415929     5318  Subscriber   \n",
       "11                 37.783172            -122.393572     5848  Subscriber   \n",
       "12                 37.798014            -122.405950     5328    Customer   \n",
       "13                 37.873676            -122.268487     5101  Subscriber   \n",
       "14                 37.865847            -122.267443     4786  Subscriber   \n",
       "15                 37.774520            -122.409449     6361  Subscriber   \n",
       "16                 37.773063            -122.439078     6572  Subscriber   \n",
       "17                 37.763281            -122.407377     5343  Subscriber   \n",
       "18                 37.773793            -122.421239     5854  Subscriber   \n",
       "19                 37.812678            -122.268773     5629    Customer   \n",
       "20                 37.763015            -122.426497     4999  Subscriber   \n",
       "21                 37.794396            -122.253842     6007  Subscriber   \n",
       "22                 37.777416            -122.441838     5479  Subscriber   \n",
       "23                 37.862320            -122.258801     1804  Subscriber   \n",
       "24                 37.839649            -122.271756     5678  Subscriber   \n",
       "25                 37.808894            -122.256460     6240  Subscriber   \n",
       "26                 37.795392            -122.394203     6531    Customer   \n",
       "27                 37.773717            -122.411647     5410  Subscriber   \n",
       "28                 37.862827            -122.290230     4784    Customer   \n",
       "29                 37.862827            -122.290230      363  Subscriber   \n",
       "...                      ...                    ...      ...         ...   \n",
       "183382             37.788300            -122.408531     1565  Subscriber   \n",
       "183383             37.873676            -122.268487     4541    Customer   \n",
       "183384             37.322125            -121.881090     4044  Subscriber   \n",
       "183385             37.806970            -122.266588     3487  Subscriber   \n",
       "183386             37.870139            -122.268422     1377  Subscriber   \n",
       "183387             37.870139            -122.268422     2055  Subscriber   \n",
       "183388             37.775880            -122.393170     5411  Subscriber   \n",
       "183389             37.780955            -122.399749     4960  Subscriber   \n",
       "183390             37.862464            -122.264791     3756  Subscriber   \n",
       "183391             37.770083            -122.429156     5540  Subscriber   \n",
       "183392             37.771431            -122.405787     3506  Subscriber   \n",
       "183393             37.770407            -122.391198     5406  Subscriber   \n",
       "183394             37.766210            -122.426614     5331  Subscriber   \n",
       "183395             37.333658            -121.908586     4299  Subscriber   \n",
       "183396             37.824893            -122.260437     3561  Subscriber   \n",
       "183397             37.774814            -122.418954     5531  Subscriber   \n",
       "183398             37.790140            -122.242373     3233  Subscriber   \n",
       "183399             37.776619            -122.417385     3392  Subscriber   \n",
       "183400             37.776619            -122.417385     4962  Subscriber   \n",
       "183401             37.811377            -122.265192     4505  Subscriber   \n",
       "183402             37.761420            -122.426435     4326  Subscriber   \n",
       "183403             37.867789            -122.265896     4642  Subscriber   \n",
       "183404             37.855956            -122.259795     4845  Subscriber   \n",
       "183405             37.788975            -122.403452     4832  Subscriber   \n",
       "183406             37.773717            -122.411647     5017  Subscriber   \n",
       "183407             37.788300            -122.408531     4832  Subscriber   \n",
       "183408             37.778742            -122.392741     4960  Subscriber   \n",
       "183409             37.333658            -121.908586     3824  Subscriber   \n",
       "183410             37.817827            -122.275698     5095  Subscriber   \n",
       "183411             37.785000            -122.395936     1057  Subscriber   \n",
       "\n",
       "        member_birth_year member_gender bike_share_for_all_trip  \n",
       "0                  1984.0          Male                      No  \n",
       "1                     NaN           NaN                      No  \n",
       "2                  1972.0          Male                      No  \n",
       "3                  1989.0         Other                      No  \n",
       "4                  1974.0          Male                     Yes  \n",
       "5                  1959.0          Male                      No  \n",
       "6                  1983.0        Female                      No  \n",
       "7                  1989.0          Male                      No  \n",
       "8                  1988.0         Other                      No  \n",
       "9                  1992.0          Male                      No  \n",
       "10                 1996.0        Female                     Yes  \n",
       "11                 1993.0          Male                      No  \n",
       "12                 1990.0          Male                      No  \n",
       "13                    NaN           NaN                      No  \n",
       "14                 1988.0          Male                      No  \n",
       "15                 1993.0          Male                     Yes  \n",
       "16                 1981.0          Male                      No  \n",
       "17                 1975.0          Male                      No  \n",
       "18                 1990.0          Male                      No  \n",
       "19                 1978.0          Male                      No  \n",
       "20                 1983.0          Male                      No  \n",
       "21                 1984.0          Male                     Yes  \n",
       "22                 1991.0        Female                      No  \n",
       "23                 1997.0        Female                      No  \n",
       "24                 1975.0          Male                      No  \n",
       "25                 1986.0          Male                      No  \n",
       "26                 2000.0          Male                      No  \n",
       "27                 1982.0          Male                      No  \n",
       "28                    NaN           NaN                      No  \n",
       "29                 1995.0          Male                      No  \n",
       "...                   ...           ...                     ...  \n",
       "183382             1988.0          Male                      No  \n",
       "183383             1997.0          Male                      No  \n",
       "183384             1991.0          Male                      No  \n",
       "183385             1945.0          Male                     Yes  \n",
       "183386             1998.0          Male                     Yes  \n",
       "183387             1999.0          Male                     Yes  \n",
       "183388             1927.0          Male                      No  \n",
       "183389             1985.0         Other                      No  \n",
       "183390             1999.0          Male                      No  \n",
       "183391             1980.0          Male                     Yes  \n",
       "183392             1993.0          Male                      No  \n",
       "183393             1985.0          Male                      No  \n",
       "183394             1975.0          Male                      No  \n",
       "183395             1993.0          Male                     Yes  \n",
       "183396             1991.0          Male                     Yes  \n",
       "183397             1988.0          Male                      No  \n",
       "183398             1982.0          Male                      No  \n",
       "183399             1993.0          Male                      No  \n",
       "183400             1984.0          Male                      No  \n",
       "183401             1991.0          Male                     Yes  \n",
       "183402                NaN           NaN                      No  \n",
       "183403             2000.0          Male                      No  \n",
       "183404             1980.0          Male                     Yes  \n",
       "183405             1984.0          Male                      No  \n",
       "183406             1988.0          Male                      No  \n",
       "183407             1996.0          Male                      No  \n",
       "183408             1984.0          Male                      No  \n",
       "183409             1990.0          Male                     Yes  \n",
       "183410             1988.0          Male                      No  \n",
       "183411             1989.0          Male                      No  \n",
       "\n",
       "[183412 rows x 16 columns]"
      ]
     },
     "execution_count": 5,
     "metadata": {},
     "output_type": "execute_result"
    }
   ],
   "source": [
    "#display data\n",
    "df"
   ]
  },
  {
   "cell_type": "code",
   "execution_count": 6,
   "metadata": {},
   "outputs": [
    {
     "name": "stdout",
     "output_type": "stream",
     "text": [
      "<class 'pandas.core.frame.DataFrame'>\n",
      "RangeIndex: 183412 entries, 0 to 183411\n",
      "Data columns (total 16 columns):\n",
      "duration_sec               183412 non-null int64\n",
      "start_time                 183412 non-null object\n",
      "end_time                   183412 non-null object\n",
      "start_station_id           183215 non-null float64\n",
      "start_station_name         183215 non-null object\n",
      "start_station_latitude     183412 non-null float64\n",
      "start_station_longitude    183412 non-null float64\n",
      "end_station_id             183215 non-null float64\n",
      "end_station_name           183215 non-null object\n",
      "end_station_latitude       183412 non-null float64\n",
      "end_station_longitude      183412 non-null float64\n",
      "bike_id                    183412 non-null int64\n",
      "user_type                  183412 non-null object\n",
      "member_birth_year          175147 non-null float64\n",
      "member_gender              175147 non-null object\n",
      "bike_share_for_all_trip    183412 non-null object\n",
      "dtypes: float64(7), int64(2), object(7)\n",
      "memory usage: 22.4+ MB\n"
     ]
    }
   ],
   "source": [
    "#information about each column\n",
    "df.info()"
   ]
  },
  {
   "cell_type": "code",
   "execution_count": 7,
   "metadata": {
    "scrolled": true
   },
   "outputs": [
    {
     "data": {
      "text/plain": [
       "duration_sec                  0\n",
       "start_time                    0\n",
       "end_time                      0\n",
       "start_station_id            197\n",
       "start_station_name          197\n",
       "start_station_latitude        0\n",
       "start_station_longitude       0\n",
       "end_station_id              197\n",
       "end_station_name            197\n",
       "end_station_latitude          0\n",
       "end_station_longitude         0\n",
       "bike_id                       0\n",
       "user_type                     0\n",
       "member_birth_year          8265\n",
       "member_gender              8265\n",
       "bike_share_for_all_trip       0\n",
       "dtype: int64"
      ]
     },
     "execution_count": 7,
     "metadata": {},
     "output_type": "execute_result"
    }
   ],
   "source": [
    "#cheking records that have null values\n",
    "df.isnull().sum()"
   ]
  },
  {
   "cell_type": "markdown",
   "metadata": {},
   "source": [
    "There are 197 data missed for start_station_id, start_station_name, end_station_id and end_station_name. 8265 missed data in member_birth_year and member_gender"
   ]
  },
  {
   "cell_type": "code",
   "execution_count": 8,
   "metadata": {
    "scrolled": true
   },
   "outputs": [
    {
     "data": {
      "text/html": [
       "<div>\n",
       "<style scoped>\n",
       "    .dataframe tbody tr th:only-of-type {\n",
       "        vertical-align: middle;\n",
       "    }\n",
       "\n",
       "    .dataframe tbody tr th {\n",
       "        vertical-align: top;\n",
       "    }\n",
       "\n",
       "    .dataframe thead th {\n",
       "        text-align: right;\n",
       "    }\n",
       "</style>\n",
       "<table border=\"1\" class=\"dataframe\">\n",
       "  <thead>\n",
       "    <tr style=\"text-align: right;\">\n",
       "      <th></th>\n",
       "      <th>duration_sec</th>\n",
       "      <th>start_station_id</th>\n",
       "      <th>start_station_latitude</th>\n",
       "      <th>start_station_longitude</th>\n",
       "      <th>end_station_id</th>\n",
       "      <th>end_station_latitude</th>\n",
       "      <th>end_station_longitude</th>\n",
       "      <th>bike_id</th>\n",
       "      <th>member_birth_year</th>\n",
       "    </tr>\n",
       "  </thead>\n",
       "  <tbody>\n",
       "    <tr>\n",
       "      <th>count</th>\n",
       "      <td>183412.000000</td>\n",
       "      <td>183215.000000</td>\n",
       "      <td>183412.000000</td>\n",
       "      <td>183412.000000</td>\n",
       "      <td>183215.000000</td>\n",
       "      <td>183412.000000</td>\n",
       "      <td>183412.000000</td>\n",
       "      <td>183412.000000</td>\n",
       "      <td>175147.000000</td>\n",
       "    </tr>\n",
       "    <tr>\n",
       "      <th>mean</th>\n",
       "      <td>726.078435</td>\n",
       "      <td>138.590427</td>\n",
       "      <td>37.771223</td>\n",
       "      <td>-122.352664</td>\n",
       "      <td>136.249123</td>\n",
       "      <td>37.771427</td>\n",
       "      <td>-122.352250</td>\n",
       "      <td>4472.906375</td>\n",
       "      <td>1984.806437</td>\n",
       "    </tr>\n",
       "    <tr>\n",
       "      <th>std</th>\n",
       "      <td>1794.389780</td>\n",
       "      <td>111.778864</td>\n",
       "      <td>0.099581</td>\n",
       "      <td>0.117097</td>\n",
       "      <td>111.515131</td>\n",
       "      <td>0.099490</td>\n",
       "      <td>0.116673</td>\n",
       "      <td>1664.383394</td>\n",
       "      <td>10.116689</td>\n",
       "    </tr>\n",
       "    <tr>\n",
       "      <th>min</th>\n",
       "      <td>61.000000</td>\n",
       "      <td>3.000000</td>\n",
       "      <td>37.317298</td>\n",
       "      <td>-122.453704</td>\n",
       "      <td>3.000000</td>\n",
       "      <td>37.317298</td>\n",
       "      <td>-122.453704</td>\n",
       "      <td>11.000000</td>\n",
       "      <td>1878.000000</td>\n",
       "    </tr>\n",
       "    <tr>\n",
       "      <th>25%</th>\n",
       "      <td>325.000000</td>\n",
       "      <td>47.000000</td>\n",
       "      <td>37.770083</td>\n",
       "      <td>-122.412408</td>\n",
       "      <td>44.000000</td>\n",
       "      <td>37.770407</td>\n",
       "      <td>-122.411726</td>\n",
       "      <td>3777.000000</td>\n",
       "      <td>1980.000000</td>\n",
       "    </tr>\n",
       "    <tr>\n",
       "      <th>50%</th>\n",
       "      <td>514.000000</td>\n",
       "      <td>104.000000</td>\n",
       "      <td>37.780760</td>\n",
       "      <td>-122.398285</td>\n",
       "      <td>100.000000</td>\n",
       "      <td>37.781010</td>\n",
       "      <td>-122.398279</td>\n",
       "      <td>4958.000000</td>\n",
       "      <td>1987.000000</td>\n",
       "    </tr>\n",
       "    <tr>\n",
       "      <th>75%</th>\n",
       "      <td>796.000000</td>\n",
       "      <td>239.000000</td>\n",
       "      <td>37.797280</td>\n",
       "      <td>-122.286533</td>\n",
       "      <td>235.000000</td>\n",
       "      <td>37.797320</td>\n",
       "      <td>-122.288045</td>\n",
       "      <td>5502.000000</td>\n",
       "      <td>1992.000000</td>\n",
       "    </tr>\n",
       "    <tr>\n",
       "      <th>max</th>\n",
       "      <td>85444.000000</td>\n",
       "      <td>398.000000</td>\n",
       "      <td>37.880222</td>\n",
       "      <td>-121.874119</td>\n",
       "      <td>398.000000</td>\n",
       "      <td>37.880222</td>\n",
       "      <td>-121.874119</td>\n",
       "      <td>6645.000000</td>\n",
       "      <td>2001.000000</td>\n",
       "    </tr>\n",
       "  </tbody>\n",
       "</table>\n",
       "</div>"
      ],
      "text/plain": [
       "        duration_sec  start_station_id  start_station_latitude  \\\n",
       "count  183412.000000     183215.000000           183412.000000   \n",
       "mean      726.078435        138.590427               37.771223   \n",
       "std      1794.389780        111.778864                0.099581   \n",
       "min        61.000000          3.000000               37.317298   \n",
       "25%       325.000000         47.000000               37.770083   \n",
       "50%       514.000000        104.000000               37.780760   \n",
       "75%       796.000000        239.000000               37.797280   \n",
       "max     85444.000000        398.000000               37.880222   \n",
       "\n",
       "       start_station_longitude  end_station_id  end_station_latitude  \\\n",
       "count            183412.000000   183215.000000         183412.000000   \n",
       "mean               -122.352664      136.249123             37.771427   \n",
       "std                   0.117097      111.515131              0.099490   \n",
       "min                -122.453704        3.000000             37.317298   \n",
       "25%                -122.412408       44.000000             37.770407   \n",
       "50%                -122.398285      100.000000             37.781010   \n",
       "75%                -122.286533      235.000000             37.797320   \n",
       "max                -121.874119      398.000000             37.880222   \n",
       "\n",
       "       end_station_longitude        bike_id  member_birth_year  \n",
       "count          183412.000000  183412.000000      175147.000000  \n",
       "mean             -122.352250    4472.906375        1984.806437  \n",
       "std                 0.116673    1664.383394          10.116689  \n",
       "min              -122.453704      11.000000        1878.000000  \n",
       "25%              -122.411726    3777.000000        1980.000000  \n",
       "50%              -122.398279    4958.000000        1987.000000  \n",
       "75%              -122.288045    5502.000000        1992.000000  \n",
       "max              -121.874119    6645.000000        2001.000000  "
      ]
     },
     "execution_count": 8,
     "metadata": {},
     "output_type": "execute_result"
    }
   ],
   "source": [
    "df.describe()"
   ]
  },
  {
   "cell_type": "code",
   "execution_count": 9,
   "metadata": {},
   "outputs": [
    {
     "data": {
      "text/plain": [
       "str"
      ]
     },
     "execution_count": 9,
     "metadata": {},
     "output_type": "execute_result"
    }
   ],
   "source": [
    "type(df['start_time'][0])"
   ]
  },
  {
   "cell_type": "markdown",
   "metadata": {},
   "source": [
    "Although the datatype for start_time appears to be object, further investigation shows that it is a string."
   ]
  },
  {
   "cell_type": "code",
   "execution_count": 10,
   "metadata": {},
   "outputs": [
    {
     "data": {
      "text/plain": [
       "array(['Montgomery St BART Station (Market St at 2nd St)',\n",
       "       'The Embarcadero at Steuart St', 'Market St at Dolores St',\n",
       "       'Grove St at Masonic Ave', 'Frank H Ogawa Plaza',\n",
       "       '4th St at Mission Bay Blvd S', 'Palm St at Willow St',\n",
       "       'Washington St at Kearny St', 'Post St at Kearny St',\n",
       "       'Jones St at Post St',\n",
       "       'Civic Center/UN Plaza BART Station (Market St at McAllister St)',\n",
       "       'Valencia St at 21st St', 'Channing Way at Shattuck Ave',\n",
       "       'Bancroft Way at College Ave', 'Howard St at Mary St',\n",
       "       '22nd St at Dolores St', 'Laguna St at Hayes St',\n",
       "       '5th St at Folsom', 'Telegraph Ave at 23rd St',\n",
       "       'Page St at Scott St', 'Lake Merritt BART Station',\n",
       "       'West St at 40th St', 'The Embarcadero at Sansome St',\n",
       "       'Folsom St at 9th St', 'University Ave at Oxford St',\n",
       "       'MLK Jr Way at University Ave', 'The Embarcadero at Bryant St',\n",
       "       '17th St at Valencia St', 'Valencia St at 16th St',\n",
       "       'Valencia St at 22nd St', 'Franklin Square',\n",
       "       'San Pablo Ave at MLK Jr Way', '19th St at Mission St',\n",
       "       'Market St at 10th St', 'Folsom St at 13th St',\n",
       "       'San Francisco Ferry Building (Harry Bridges Plaza)',\n",
       "       '4th St at 16th St', 'Beale St at Harrison St',\n",
       "       'Broadway at Battery St', 'Cesar Chavez St at Dolores St',\n",
       "       'San Fernando St at 4th St', 'Grove St at Divisadero',\n",
       "       'Sanchez St at 17th St', 'Harmon St at Adeline St',\n",
       "       'Mission Playground', 'Davis St at Jackson St',\n",
       "       'Haste St at Telegraph Ave', 'Howard St at 8th St',\n",
       "       'Folsom St at 3rd St', 'Father Alfred E Boeddeker Park',\n",
       "       'Commercial St at Montgomery St', 'Hubbell St at 16th St',\n",
       "       'San Francisco Public Library (Grove St at Hyde St)',\n",
       "       'Bancroft Way at Telegraph Ave', '19th Street BART Station',\n",
       "       '18th St at Noe St', 'Hyde St at Post St', '24th St at Market St',\n",
       "       'Vine St at Shattuck Ave',\n",
       "       'San Francisco Caltrain (Townsend St at 4th St)',\n",
       "       'Valencia St at Clinton Park',\n",
       "       'Union Square (Powell St at Post St)', 'Broderick St at Oak St',\n",
       "       'San Francisco Caltrain Station 2  (Townsend St at 4th St)',\n",
       "       'North Berkeley BART Station', 'Downtown Berkeley BART',\n",
       "       'Fell St at Stanyan St', 'San Salvador St at 9th St',\n",
       "       'Marston Campbell Park', 'Oregon St at Adeline St',\n",
       "       '11th St at Natoma St', 'Harrison St at 20th St',\n",
       "       'Haste St at College Ave', '24th St at Bartlett St',\n",
       "       'Sanchez St at 15th St', 'Telegraph Ave at 19th St',\n",
       "       'Powell St BART Station (Market St at 5th St)',\n",
       "       'Jersey St at Castro St', 'Pierce St at Haight St',\n",
       "       'MacArthur BART Station', 'El Embarcadero at Grand Ave',\n",
       "       '23rd St at San Bruno Ave', 'Golden Gate Ave at Hyde St',\n",
       "       'S Van Ness Ave at Market St', 'Jackson Playground',\n",
       "       'San Fernando St at 7th St', 'West St at University Ave',\n",
       "       'Myrtle St at Polk St', 'Woolsey St at Sacramento St',\n",
       "       'Townsend St at 7th St', 'Harrison St at 17th St',\n",
       "       'West Oakland BART Station', 'Cyril Magnin St at Ellis St',\n",
       "       'Fulton St at Bancroft Way', '14th St at Mission St',\n",
       "       'San Pedro Square', 'Market St at Franklin St',\n",
       "       'Folsom St at 19th St', 'College Ave at Taft Ave',\n",
       "       'Rhode Island St at 17th St', 'Shattuck Ave at Hearst Ave',\n",
       "       'The Embarcadero at Vallejo St', 'Webster St at Grove St',\n",
       "       'Raymond Kimbell Playground', 'Victoria Manalo Draves Park',\n",
       "       '20th St at Bryant St', 'S Park St at 3rd St',\n",
       "       'Lakeshore Ave at Trestle Glen Rd',\n",
       "       'Channing Way at San Pablo Ave', 'Mission Dolores Park',\n",
       "       'Lombard St at Columbus Ave', '17th St at Dolores St',\n",
       "       'Precita Park', 'Central Ave at Fell St', '4th St at Harrison St',\n",
       "       'Horton St at 40th St', 'Golden Gate Ave at Franklin St',\n",
       "       'Embarcadero BART Station (Beale St at Market St)',\n",
       "       '9th St at San Fernando St', '3rd St at Townsend St',\n",
       "       'McCoppin St at Valencia St', '13th St at Franklin St',\n",
       "       'Mission Bay Kids Park', 'Potrero Ave and Mariposa St',\n",
       "       'Emeryville Public Market', 'Union St at 10th St',\n",
       "       'Jackson St at 11th St', 'Broadway at Kearny',\n",
       "       'Paseo De San Antonio at 2nd St', 'Valencia St at Cesar Chavez St',\n",
       "       'Rockridge BART Station', '8th St at Brannan St',\n",
       "       'College Ave at Alcatraz Ave', '16th St Mission BART Station 2',\n",
       "       'San Jose Diridon Station', 'Masonic Ave at Turk St',\n",
       "       '17th & Folsom Street Park (17th St at Folsom St)',\n",
       "       'Grand Ave at Webster St', '7th St at Brannan St',\n",
       "       'Steuart St at Market St', 'Scott St at Golden Gate Ave',\n",
       "       'Parker St at Fulton St', 'Berkeley Civic Center',\n",
       "       'Clay St at Battery St', '11th St at Bryant St',\n",
       "       'Powell St BART Station (Market St at 4th St)',\n",
       "       'Doyle St at 59th St', '34th St at Telegraph Ave', 'Esprit Park',\n",
       "       'Emeryville Town Hall', 'Division St at Potrero Ave',\n",
       "       'Irwin St at 8th St', 'Pierce Ave at Market St',\n",
       "       'Howard St at Beale St', 'Washington St at 8th St', 'Snow Park',\n",
       "       'Dolores St at 15th St', 'Hearst Ave at Euclid Ave',\n",
       "       'Telegraph Ave at Ashby Ave', '8th St at Ringold St',\n",
       "       '14th St at Mandela Pkwy', 'Morrison Ave at Julian St',\n",
       "       'Church St at Duboce Ave', 'Townsend St at 5th St',\n",
       "       'Valencia St at 24th St', '16th St at Prosper St',\n",
       "       '5th St at Virginia St', \"Webster St at O'Farrell St\",\n",
       "       'Shattuck Ave at Telegraph Ave', 'Jackson St at 5th St',\n",
       "       'Berry St at 4th St', '2nd St at Townsend St',\n",
       "       'Telegraph Ave at Carleton St', 'Ellsworth St at Russell St',\n",
       "       'Adeline St at 40th St', 'Bay Pl at Vernon St',\n",
       "       'Russell St at College Ave', '22nd St Caltrain Station',\n",
       "       'Folsom St at 15th St', nan, 'Ninth St at Heinz Ave',\n",
       "       '15th St at Potrero Ave', '23rd St at Tennessee St',\n",
       "       'McAllister St at Baker St', 'Bryant St at 2nd St',\n",
       "       'Mississippi St at 17th St', 'Ryland Park',\n",
       "       'Fountain Alley at S 2nd St', 'Turk St at Fillmore St',\n",
       "       'Ashby BART Station', 'Shattuck Ave at 51st St',\n",
       "       'Julian St at The Alameda', '20th St at Dolores St',\n",
       "       'Broadway at Coronado Ave', 'Grand Ave at Santa Clara Ave',\n",
       "       'Eureka Valley Recreation Center', 'Parker Ave at McAllister St',\n",
       "       'Berry St at King St',\n",
       "       'Salesforce Transit Center (Natoma St at 2nd St)',\n",
       "       'San Antonio Park', 'Lakeside Dr at 14th St',\n",
       "       '16th St Mission BART', 'Stanford Ave at Hollis St',\n",
       "       'Broadway at 40th St',\n",
       "       'Mechanics Monument Plaza (Market St at Bush St)',\n",
       "       'Madison St at 17th St', 'Grand Ave at Perkins St',\n",
       "       'Garfield Square (25th St at Harrison St)', '53rd St at Hollis St',\n",
       "       '2nd St at Julian St', 'Telegraph Ave at Alcatraz Ave',\n",
       "       'San Francisco City Hall (Polk St at Grove St)',\n",
       "       '5th St at Brannan St', '10th St at Fallon St',\n",
       "       'Yerba Buena Center for the Arts (Howard St at 3rd St)',\n",
       "       '30th St at San Jose Ave', '29th St at Tiffany Ave',\n",
       "       'Webster St at 2nd St', 'Koshland Park', 'Jersey St at Church St',\n",
       "       'Santa Clara St at 7th St', 'Telegraph Ave at 58th St',\n",
       "       'Fruitvale BART Station', 'Addison St at Fourth St',\n",
       "       'Leavenworth St at Broadway', 'Telegraph Ave at 27th St',\n",
       "       'Potrero del Sol Park (25th St at Utah St)',\n",
       "       'Spear St at Folsom St', 'College Ave at Harwood Ave',\n",
       "       \"O'Farrell St at Divisadero St\", '1st St at Folsom St',\n",
       "       'Bryant St at 15th St', 'Golden Gate Ave at Polk St',\n",
       "       '5th St at San Salvador St', '29th St at Church St',\n",
       "       'Alamo Square (Steiner St at Fulton St)',\n",
       "       'Autumn Parkway at Coleman Ave', 'Fulton St at Ashby Ave',\n",
       "       'Howard St at 2nd St', '19th St at Florida St',\n",
       "       'Market St at 45th St', 'Derby St at College Ave',\n",
       "       'Market St at Brockhurst St', 'California St at University Ave',\n",
       "       'MLK Jr Way at 14th St', 'Market St at 40th St',\n",
       "       'Julian St at 6th St', 'Cahill Park', 'San Jose City Hall',\n",
       "       'Virginia St at Shattuck Ave', 'Jack London Square',\n",
       "       'Milvia St at Derby St', 'Webster St at 19th St',\n",
       "       '24th St at Chattanooga St', 'The Alameda at Bush St',\n",
       "       '49th St at Telegraph Ave', 'Broadway at 30th St',\n",
       "       'Bryant St at 6th St', 'Empire St at 1st St',\n",
       "       'China Basin St at 3rd St', '47th St at San Pablo Ave',\n",
       "       'San Salvador St at 1st St', '45th St at Manila',\n",
       "       'San Carlos St at Market St', 'San Pablo Ave at 27th St',\n",
       "       'Market St at Park St', 'Franklin St at 9th St',\n",
       "       'Almaden Blvd at San Fernando St', 'Oak St at 1st St',\n",
       "       'William St at 10th St', 'Isabella St at San Pablo Ave',\n",
       "       'Guerrero Park', '10th St at University Ave', 'DeFremery Park',\n",
       "       'Fifth St at Delaware St', 'Williams Ave at 3rd St',\n",
       "       '4th Ave at E 12th St (Temporary Location)',\n",
       "       'Shattuck Ave at 55th St', '59th St at Horton St', 'SAP Center',\n",
       "       '37th St at West St', 'Almaden Blvd at Balbach St',\n",
       "       '65th St at Hollis St', 'Santa Clara St at Almaden Blvd',\n",
       "       'Ninth St at Parker St', 'Bushrod Park', 'Empire St at 7th St',\n",
       "       'Mendell St at Fairfax Ave', '16th St Depot',\n",
       "       'Newhall St at 3rd St', 'George St at 1st St',\n",
       "       'Mission St at 1st St', 'Duboce Park', 'Locust St at Grant St',\n",
       "       '32nd St at Adeline St', 'Mosswood Park',\n",
       "       'Delmas Ave and San Fernando St', 'Lane St at Revere Ave',\n",
       "       '2nd Ave at E 18th St', 'San Carlos St at 11th St',\n",
       "       'Williams Ave at Apollo St', 'MacArthur Blvd at Telegraph Ave',\n",
       "       'Bestor Art Park', 'College Ave at Bryant Ave',\n",
       "       'Miles Ave at Cavour St', 'Saint James Park',\n",
       "       '14th St at Filbert St', 'Foothill Blvd at Fruitvale Ave',\n",
       "       'Market St at 8th St', 'Backesto Park (Jackson St at 13th St)',\n",
       "       '10th Ave at E 15th St', 'Alcatraz Ave at Shattuck Ave',\n",
       "       '55th St at Telegraph Ave', 'Genoa St at 55th St',\n",
       "       'Dover St at 57th St', 'San Pablo Park',\n",
       "       '6th Ave at E 12th St (Temporary Location)', 'Taylor St at 9th St',\n",
       "       '27th St at MLK Jr Way', 'Foothill Blvd at Harrington Ave',\n",
       "       '23rd Ave at Foothill Blvd', 'San Pedro St at Hedding St',\n",
       "       '45th St at MLK Jr Way', '5th St at Taylor St',\n",
       "       'Foothill Blvd at 42nd Ave', 'Willow St at Vine St',\n",
       "       '26th Ave at International Blvd', 'Farnam St at Fruitvale Ave',\n",
       "       '21st Ave at International Blvd', '2nd St at Folsom St'],\n",
       "      dtype=object)"
      ]
     },
     "execution_count": 10,
     "metadata": {},
     "output_type": "execute_result"
    }
   ],
   "source": [
    "df['start_station_name'].unique()"
   ]
  },
  {
   "cell_type": "markdown",
   "metadata": {},
   "source": [
    "### What is the structure of your dataset?\n",
    "\n",
    "> The dataset contains 16 columns and 183412 rows.\n",
    "\n",
    "### What is/are the main feature(s) of interest in your dataset?\n",
    "\n",
    "> In my analysis, there is 1 main feature: duration_sec\n",
    "\n",
    "### What features in the dataset do you think will help support your investigation into your feature(s) of interest?\n",
    "\n",
    "> user_type\n",
    "> gender_member\n",
    "> member_birth_year\n",
    "> start_time"
   ]
  },
  {
   "cell_type": "markdown",
   "metadata": {},
   "source": [
    "### Quality issues\n",
    "1. Drop Missing values\n",
    "\n",
    "2. Invalid data type for start_time, end_time\t\n",
    "\n",
    "3. Invalid data type for start_station_id, end_station_id, bike_id, member_birth_year\n",
    "\n",
    "4. Convert user_type, gender_member, bike_share_for_all_trip to categorical data\n",
    "\n",
    "5. Convert duration second to duration minutes in order to facilitate the analysis"
   ]
  },
  {
   "cell_type": "markdown",
   "metadata": {},
   "source": [
    "### Tidiness issues\n",
    "1. Add new column for Age\n",
    "2. split start time and end time into two columns: day and time\n",
    "3. drop start_time and end_time as we added corresponding detailed columns"
   ]
  },
  {
   "cell_type": "markdown",
   "metadata": {},
   "source": [
    "## <a id='cleaning'>3. Cleaning Data</a>\n",
    "In this section, we clean **all** of the issues we documented while assessing. \n"
   ]
  },
  {
   "cell_type": "code",
   "execution_count": 11,
   "metadata": {},
   "outputs": [],
   "source": [
    "#we make a copy of the original dataset\n",
    "df_clean=df.copy()"
   ]
  },
  {
   "cell_type": "markdown",
   "metadata": {},
   "source": [
    "### <li> Quality issues</li>"
   ]
  },
  {
   "cell_type": "markdown",
   "metadata": {},
   "source": [
    "### Issue #1: "
   ]
  },
  {
   "cell_type": "markdown",
   "metadata": {},
   "source": [
    "#### Define: Drop Missing values"
   ]
  },
  {
   "cell_type": "markdown",
   "metadata": {},
   "source": [
    "#### Code"
   ]
  },
  {
   "cell_type": "code",
   "execution_count": 12,
   "metadata": {},
   "outputs": [],
   "source": [
    "df_clean.dropna(inplace=True)"
   ]
  },
  {
   "cell_type": "markdown",
   "metadata": {},
   "source": [
    "#### Test"
   ]
  },
  {
   "cell_type": "code",
   "execution_count": 13,
   "metadata": {
    "scrolled": true
   },
   "outputs": [
    {
     "data": {
      "text/plain": [
       "duration_sec               0\n",
       "start_time                 0\n",
       "end_time                   0\n",
       "start_station_id           0\n",
       "start_station_name         0\n",
       "start_station_latitude     0\n",
       "start_station_longitude    0\n",
       "end_station_id             0\n",
       "end_station_name           0\n",
       "end_station_latitude       0\n",
       "end_station_longitude      0\n",
       "bike_id                    0\n",
       "user_type                  0\n",
       "member_birth_year          0\n",
       "member_gender              0\n",
       "bike_share_for_all_trip    0\n",
       "dtype: int64"
      ]
     },
     "execution_count": 13,
     "metadata": {},
     "output_type": "execute_result"
    }
   ],
   "source": [
    "df_clean.isna().sum()"
   ]
  },
  {
   "cell_type": "markdown",
   "metadata": {},
   "source": [
    "### Issue #2: "
   ]
  },
  {
   "cell_type": "markdown",
   "metadata": {},
   "source": [
    "#### Define: Invalid data type for start_time, end_time"
   ]
  },
  {
   "cell_type": "markdown",
   "metadata": {},
   "source": [
    "#### Code"
   ]
  },
  {
   "cell_type": "code",
   "execution_count": 14,
   "metadata": {},
   "outputs": [],
   "source": [
    "df_clean['start_time']=pd.to_datetime(df_clean['start_time'])\n",
    "df_clean['end_time']=pd.to_datetime(df_clean['end_time'])"
   ]
  },
  {
   "cell_type": "markdown",
   "metadata": {},
   "source": [
    "#### Test"
   ]
  },
  {
   "cell_type": "code",
   "execution_count": 15,
   "metadata": {},
   "outputs": [
    {
     "data": {
      "text/plain": [
       "duration_sec                        int64\n",
       "start_time                 datetime64[ns]\n",
       "end_time                   datetime64[ns]\n",
       "start_station_id                  float64\n",
       "start_station_name                 object\n",
       "start_station_latitude            float64\n",
       "start_station_longitude           float64\n",
       "end_station_id                    float64\n",
       "end_station_name                   object\n",
       "end_station_latitude              float64\n",
       "end_station_longitude             float64\n",
       "bike_id                             int64\n",
       "user_type                          object\n",
       "member_birth_year                 float64\n",
       "member_gender                      object\n",
       "bike_share_for_all_trip            object\n",
       "dtype: object"
      ]
     },
     "execution_count": 15,
     "metadata": {},
     "output_type": "execute_result"
    }
   ],
   "source": [
    "df_clean.dtypes"
   ]
  },
  {
   "cell_type": "markdown",
   "metadata": {},
   "source": [
    "### Issue #3: "
   ]
  },
  {
   "cell_type": "markdown",
   "metadata": {},
   "source": [
    "#### Define: Invalid data type for start_station_id, end_station_id, bike_id, member_birth_year"
   ]
  },
  {
   "cell_type": "markdown",
   "metadata": {},
   "source": [
    "#### Code"
   ]
  },
  {
   "cell_type": "code",
   "execution_count": 16,
   "metadata": {},
   "outputs": [],
   "source": [
    "df_clean['start_station_id']=df_clean['start_station_id'].astype(int)\n",
    "df_clean['end_station_id']=df_clean['end_station_id'].astype(int)\n",
    "df_clean['bike_id']=df_clean['bike_id'].astype(int)\n",
    "df_clean['member_birth_year']=df_clean['member_birth_year'].astype(int)"
   ]
  },
  {
   "cell_type": "markdown",
   "metadata": {},
   "source": [
    "#### Test"
   ]
  },
  {
   "cell_type": "code",
   "execution_count": 17,
   "metadata": {},
   "outputs": [
    {
     "data": {
      "text/plain": [
       "duration_sec                        int64\n",
       "start_time                 datetime64[ns]\n",
       "end_time                   datetime64[ns]\n",
       "start_station_id                    int64\n",
       "start_station_name                 object\n",
       "start_station_latitude            float64\n",
       "start_station_longitude           float64\n",
       "end_station_id                      int64\n",
       "end_station_name                   object\n",
       "end_station_latitude              float64\n",
       "end_station_longitude             float64\n",
       "bike_id                             int64\n",
       "user_type                          object\n",
       "member_birth_year                   int64\n",
       "member_gender                      object\n",
       "bike_share_for_all_trip            object\n",
       "dtype: object"
      ]
     },
     "execution_count": 17,
     "metadata": {},
     "output_type": "execute_result"
    }
   ],
   "source": [
    "df_clean.dtypes"
   ]
  },
  {
   "cell_type": "markdown",
   "metadata": {},
   "source": [
    "### Issue #4: "
   ]
  },
  {
   "cell_type": "markdown",
   "metadata": {},
   "source": [
    "#### Define: Convert user_type, gender_member, bike_share_for_all_trip to categorical data"
   ]
  },
  {
   "cell_type": "markdown",
   "metadata": {},
   "source": [
    "#### Code"
   ]
  },
  {
   "cell_type": "code",
   "execution_count": 18,
   "metadata": {},
   "outputs": [],
   "source": [
    "df_clean['user_type']=pd.Categorical(df_clean.user_type)\n",
    "df_clean['member_gender']=pd.Categorical(df_clean.member_gender)\n",
    "df_clean['bike_share_for_all_trip']=pd.Categorical(df_clean.bike_share_for_all_trip)\n"
   ]
  },
  {
   "cell_type": "markdown",
   "metadata": {},
   "source": [
    "#### Test"
   ]
  },
  {
   "cell_type": "code",
   "execution_count": 19,
   "metadata": {
    "scrolled": false
   },
   "outputs": [
    {
     "data": {
      "text/plain": [
       "duration_sec                        int64\n",
       "start_time                 datetime64[ns]\n",
       "end_time                   datetime64[ns]\n",
       "start_station_id                    int64\n",
       "start_station_name                 object\n",
       "start_station_latitude            float64\n",
       "start_station_longitude           float64\n",
       "end_station_id                      int64\n",
       "end_station_name                   object\n",
       "end_station_latitude              float64\n",
       "end_station_longitude             float64\n",
       "bike_id                             int64\n",
       "user_type                        category\n",
       "member_birth_year                   int64\n",
       "member_gender                    category\n",
       "bike_share_for_all_trip          category\n",
       "dtype: object"
      ]
     },
     "execution_count": 19,
     "metadata": {},
     "output_type": "execute_result"
    }
   ],
   "source": [
    "df_clean.dtypes"
   ]
  },
  {
   "cell_type": "markdown",
   "metadata": {},
   "source": [
    "### Issue #5: "
   ]
  },
  {
   "cell_type": "markdown",
   "metadata": {},
   "source": [
    "#### Define: Convert duration second to duration hours in order to facilitate the analysis"
   ]
  },
  {
   "cell_type": "markdown",
   "metadata": {},
   "source": [
    "#### Code"
   ]
  },
  {
   "cell_type": "code",
   "execution_count": 20,
   "metadata": {},
   "outputs": [],
   "source": [
    "# Duration in seconds to duration in hours\n",
    "df_clean['duration_min'] = df_clean['duration_sec']/60\n",
    "df_clean['duration_min'] = df_clean['duration_min'].astype('int64')"
   ]
  },
  {
   "cell_type": "markdown",
   "metadata": {},
   "source": [
    "#### Test"
   ]
  },
  {
   "cell_type": "code",
   "execution_count": 21,
   "metadata": {},
   "outputs": [
    {
     "data": {
      "text/plain": [
       "16805     10\n",
       "102717     9\n",
       "26680      6\n",
       "94949      2\n",
       "40399     14\n",
       "Name: duration_min, dtype: int64"
      ]
     },
     "execution_count": 21,
     "metadata": {},
     "output_type": "execute_result"
    }
   ],
   "source": [
    "df_clean.duration_min.sample(5)"
   ]
  },
  {
   "cell_type": "markdown",
   "metadata": {},
   "source": [
    "### <li> Tidiness issues</li>"
   ]
  },
  {
   "cell_type": "markdown",
   "metadata": {},
   "source": [
    "### Issue #1: "
   ]
  },
  {
   "cell_type": "markdown",
   "metadata": {},
   "source": [
    "#### Define: Add new column for Age"
   ]
  },
  {
   "cell_type": "markdown",
   "metadata": {},
   "source": [
    "#### Code"
   ]
  },
  {
   "cell_type": "code",
   "execution_count": 22,
   "metadata": {},
   "outputs": [],
   "source": [
    "df_clean['age']=2022-df_clean['member_birth_year']"
   ]
  },
  {
   "cell_type": "markdown",
   "metadata": {},
   "source": [
    "#### Test"
   ]
  },
  {
   "cell_type": "code",
   "execution_count": 23,
   "metadata": {
    "scrolled": true
   },
   "outputs": [
    {
     "data": {
      "text/html": [
       "<div>\n",
       "<style scoped>\n",
       "    .dataframe tbody tr th:only-of-type {\n",
       "        vertical-align: middle;\n",
       "    }\n",
       "\n",
       "    .dataframe tbody tr th {\n",
       "        vertical-align: top;\n",
       "    }\n",
       "\n",
       "    .dataframe thead th {\n",
       "        text-align: right;\n",
       "    }\n",
       "</style>\n",
       "<table border=\"1\" class=\"dataframe\">\n",
       "  <thead>\n",
       "    <tr style=\"text-align: right;\">\n",
       "      <th></th>\n",
       "      <th>duration_sec</th>\n",
       "      <th>start_time</th>\n",
       "      <th>end_time</th>\n",
       "      <th>start_station_id</th>\n",
       "      <th>start_station_name</th>\n",
       "      <th>start_station_latitude</th>\n",
       "      <th>start_station_longitude</th>\n",
       "      <th>end_station_id</th>\n",
       "      <th>end_station_name</th>\n",
       "      <th>end_station_latitude</th>\n",
       "      <th>end_station_longitude</th>\n",
       "      <th>bike_id</th>\n",
       "      <th>user_type</th>\n",
       "      <th>member_birth_year</th>\n",
       "      <th>member_gender</th>\n",
       "      <th>bike_share_for_all_trip</th>\n",
       "      <th>duration_min</th>\n",
       "      <th>age</th>\n",
       "    </tr>\n",
       "  </thead>\n",
       "  <tbody>\n",
       "    <tr>\n",
       "      <th>0</th>\n",
       "      <td>52185</td>\n",
       "      <td>2019-02-28 17:32:10.145</td>\n",
       "      <td>2019-03-01 08:01:55.975</td>\n",
       "      <td>21</td>\n",
       "      <td>Montgomery St BART Station (Market St at 2nd St)</td>\n",
       "      <td>37.789625</td>\n",
       "      <td>-122.400811</td>\n",
       "      <td>13</td>\n",
       "      <td>Commercial St at Montgomery St</td>\n",
       "      <td>37.794231</td>\n",
       "      <td>-122.402923</td>\n",
       "      <td>4902</td>\n",
       "      <td>Customer</td>\n",
       "      <td>1984</td>\n",
       "      <td>Male</td>\n",
       "      <td>No</td>\n",
       "      <td>869</td>\n",
       "      <td>38</td>\n",
       "    </tr>\n",
       "  </tbody>\n",
       "</table>\n",
       "</div>"
      ],
      "text/plain": [
       "   duration_sec              start_time                end_time  \\\n",
       "0         52185 2019-02-28 17:32:10.145 2019-03-01 08:01:55.975   \n",
       "\n",
       "   start_station_id                                start_station_name  \\\n",
       "0                21  Montgomery St BART Station (Market St at 2nd St)   \n",
       "\n",
       "   start_station_latitude  start_station_longitude  end_station_id  \\\n",
       "0               37.789625              -122.400811              13   \n",
       "\n",
       "                 end_station_name  end_station_latitude  \\\n",
       "0  Commercial St at Montgomery St             37.794231   \n",
       "\n",
       "   end_station_longitude  bike_id user_type  member_birth_year member_gender  \\\n",
       "0            -122.402923     4902  Customer               1984          Male   \n",
       "\n",
       "  bike_share_for_all_trip  duration_min  age  \n",
       "0                      No           869   38  "
      ]
     },
     "execution_count": 23,
     "metadata": {},
     "output_type": "execute_result"
    }
   ],
   "source": [
    "df_clean.head(1)"
   ]
  },
  {
   "cell_type": "markdown",
   "metadata": {},
   "source": [
    "When adding the column age, we have to verify of ages are correct data."
   ]
  },
  {
   "cell_type": "code",
   "execution_count": 24,
   "metadata": {},
   "outputs": [
    {
     "data": {
      "text/plain": [
       "count    174952.000000\n",
       "mean         37.196865\n",
       "std          10.118731\n",
       "min          21.000000\n",
       "25%          30.000000\n",
       "50%          35.000000\n",
       "75%          42.000000\n",
       "max         144.000000\n",
       "Name: age, dtype: float64"
      ]
     },
     "execution_count": 24,
     "metadata": {},
     "output_type": "execute_result"
    }
   ],
   "source": [
    "df_clean['age'].describe()"
   ]
  },
  {
   "cell_type": "markdown",
   "metadata": {},
   "source": [
    "The maximum age is 144 which is impossible and can be considered as un outlier. In our study, we assume that the maximum member's age is 65, and We will remove all records that don't respect this assumption. This step is supposed as a quality issue"
   ]
  },
  {
   "cell_type": "code",
   "execution_count": 25,
   "metadata": {},
   "outputs": [],
   "source": [
    "#Remove all records where age is greater than 65\n",
    "df_clean=df_clean[df_clean['age']<=65]"
   ]
  },
  {
   "cell_type": "markdown",
   "metadata": {},
   "source": [
    "After fixing the age issue, we have to test again if this is fixed"
   ]
  },
  {
   "cell_type": "code",
   "execution_count": 26,
   "metadata": {},
   "outputs": [
    {
     "data": {
      "text/plain": [
       "count    172746.000000\n",
       "mean         36.738651\n",
       "std           9.250810\n",
       "min          21.000000\n",
       "25%          30.000000\n",
       "50%          35.000000\n",
       "75%          42.000000\n",
       "max          65.000000\n",
       "Name: age, dtype: float64"
      ]
     },
     "execution_count": 26,
     "metadata": {},
     "output_type": "execute_result"
    }
   ],
   "source": [
    "df_clean['age'].describe()"
   ]
  },
  {
   "cell_type": "markdown",
   "metadata": {},
   "source": [
    "we notice here the maximum age is 65."
   ]
  },
  {
   "cell_type": "markdown",
   "metadata": {},
   "source": [
    "### Issue #2: "
   ]
  },
  {
   "cell_type": "markdown",
   "metadata": {},
   "source": [
    "#### Define: split start time and end time into two columns: day and time"
   ]
  },
  {
   "cell_type": "markdown",
   "metadata": {},
   "source": [
    "#### Code"
   ]
  },
  {
   "cell_type": "code",
   "execution_count": 27,
   "metadata": {},
   "outputs": [],
   "source": [
    "df_clean['start_time_day']=df_clean['start_time'].dt.date\n",
    "df_clean['end_time_day']=df_clean['end_time'].dt.date\n",
    "df_clean['start_time_time']=df_clean['start_time'].dt.time\n",
    "df_clean['end_time_time']=df_clean['start_time'].dt.time"
   ]
  },
  {
   "cell_type": "markdown",
   "metadata": {},
   "source": [
    "#### Test"
   ]
  },
  {
   "cell_type": "code",
   "execution_count": 28,
   "metadata": {
    "scrolled": true
   },
   "outputs": [
    {
     "data": {
      "text/html": [
       "<div>\n",
       "<style scoped>\n",
       "    .dataframe tbody tr th:only-of-type {\n",
       "        vertical-align: middle;\n",
       "    }\n",
       "\n",
       "    .dataframe tbody tr th {\n",
       "        vertical-align: top;\n",
       "    }\n",
       "\n",
       "    .dataframe thead th {\n",
       "        text-align: right;\n",
       "    }\n",
       "</style>\n",
       "<table border=\"1\" class=\"dataframe\">\n",
       "  <thead>\n",
       "    <tr style=\"text-align: right;\">\n",
       "      <th></th>\n",
       "      <th>duration_sec</th>\n",
       "      <th>start_time</th>\n",
       "      <th>end_time</th>\n",
       "      <th>start_station_id</th>\n",
       "      <th>start_station_name</th>\n",
       "      <th>start_station_latitude</th>\n",
       "      <th>start_station_longitude</th>\n",
       "      <th>end_station_id</th>\n",
       "      <th>end_station_name</th>\n",
       "      <th>end_station_latitude</th>\n",
       "      <th>...</th>\n",
       "      <th>user_type</th>\n",
       "      <th>member_birth_year</th>\n",
       "      <th>member_gender</th>\n",
       "      <th>bike_share_for_all_trip</th>\n",
       "      <th>duration_min</th>\n",
       "      <th>age</th>\n",
       "      <th>start_time_day</th>\n",
       "      <th>end_time_day</th>\n",
       "      <th>start_time_time</th>\n",
       "      <th>end_time_time</th>\n",
       "    </tr>\n",
       "  </thead>\n",
       "  <tbody>\n",
       "    <tr>\n",
       "      <th>3661</th>\n",
       "      <td>314</td>\n",
       "      <td>2019-02-28 17:05:56.320</td>\n",
       "      <td>2019-02-28 17:11:10.544</td>\n",
       "      <td>282</td>\n",
       "      <td>Market St at Park St</td>\n",
       "      <td>37.332426</td>\n",
       "      <td>-121.890349</td>\n",
       "      <td>297</td>\n",
       "      <td>Locust St at Grant St</td>\n",
       "      <td>37.322980</td>\n",
       "      <td>...</td>\n",
       "      <td>Subscriber</td>\n",
       "      <td>1995</td>\n",
       "      <td>Male</td>\n",
       "      <td>Yes</td>\n",
       "      <td>5</td>\n",
       "      <td>27</td>\n",
       "      <td>2019-02-28</td>\n",
       "      <td>2019-02-28</td>\n",
       "      <td>17:05:56.320000</td>\n",
       "      <td>17:05:56.320000</td>\n",
       "    </tr>\n",
       "    <tr>\n",
       "      <th>156754</th>\n",
       "      <td>275</td>\n",
       "      <td>2019-02-06 07:32:09.558</td>\n",
       "      <td>2019-02-06 07:36:44.853</td>\n",
       "      <td>22</td>\n",
       "      <td>Howard St at Beale St</td>\n",
       "      <td>37.789756</td>\n",
       "      <td>-122.394643</td>\n",
       "      <td>14</td>\n",
       "      <td>Clay St at Battery St</td>\n",
       "      <td>37.795001</td>\n",
       "      <td>...</td>\n",
       "      <td>Subscriber</td>\n",
       "      <td>1980</td>\n",
       "      <td>Male</td>\n",
       "      <td>No</td>\n",
       "      <td>4</td>\n",
       "      <td>42</td>\n",
       "      <td>2019-02-06</td>\n",
       "      <td>2019-02-06</td>\n",
       "      <td>07:32:09.558000</td>\n",
       "      <td>07:32:09.558000</td>\n",
       "    </tr>\n",
       "  </tbody>\n",
       "</table>\n",
       "<p>2 rows × 22 columns</p>\n",
       "</div>"
      ],
      "text/plain": [
       "        duration_sec              start_time                end_time  \\\n",
       "3661             314 2019-02-28 17:05:56.320 2019-02-28 17:11:10.544   \n",
       "156754           275 2019-02-06 07:32:09.558 2019-02-06 07:36:44.853   \n",
       "\n",
       "        start_station_id     start_station_name  start_station_latitude  \\\n",
       "3661                 282   Market St at Park St               37.332426   \n",
       "156754                22  Howard St at Beale St               37.789756   \n",
       "\n",
       "        start_station_longitude  end_station_id       end_station_name  \\\n",
       "3661                -121.890349             297  Locust St at Grant St   \n",
       "156754              -122.394643              14  Clay St at Battery St   \n",
       "\n",
       "        end_station_latitude       ...          user_type  member_birth_year  \\\n",
       "3661               37.322980       ...         Subscriber               1995   \n",
       "156754             37.795001       ...         Subscriber               1980   \n",
       "\n",
       "       member_gender  bike_share_for_all_trip duration_min age  \\\n",
       "3661            Male                      Yes            5  27   \n",
       "156754          Male                       No            4  42   \n",
       "\n",
       "        start_time_day  end_time_day  start_time_time    end_time_time  \n",
       "3661        2019-02-28    2019-02-28  17:05:56.320000  17:05:56.320000  \n",
       "156754      2019-02-06    2019-02-06  07:32:09.558000  07:32:09.558000  \n",
       "\n",
       "[2 rows x 22 columns]"
      ]
     },
     "execution_count": 28,
     "metadata": {},
     "output_type": "execute_result"
    }
   ],
   "source": [
    "df_clean.sample(2)"
   ]
  },
  {
   "cell_type": "markdown",
   "metadata": {},
   "source": [
    "### Issue #3: "
   ]
  },
  {
   "cell_type": "markdown",
   "metadata": {},
   "source": [
    "#### Define: drop start_time and end_time"
   ]
  },
  {
   "cell_type": "markdown",
   "metadata": {},
   "source": [
    "#### Code"
   ]
  },
  {
   "cell_type": "code",
   "execution_count": 29,
   "metadata": {},
   "outputs": [],
   "source": [
    "df_clean.drop(columns=['start_time', 'end_time'], inplace= True)"
   ]
  },
  {
   "cell_type": "markdown",
   "metadata": {},
   "source": [
    "#### Test"
   ]
  },
  {
   "cell_type": "code",
   "execution_count": 30,
   "metadata": {},
   "outputs": [
    {
     "data": {
      "text/plain": [
       "Index(['duration_sec', 'start_station_id', 'start_station_name',\n",
       "       'start_station_latitude', 'start_station_longitude', 'end_station_id',\n",
       "       'end_station_name', 'end_station_latitude', 'end_station_longitude',\n",
       "       'bike_id', 'user_type', 'member_birth_year', 'member_gender',\n",
       "       'bike_share_for_all_trip', 'duration_min', 'age', 'start_time_day',\n",
       "       'end_time_day', 'start_time_time', 'end_time_time'],\n",
       "      dtype='object')"
      ]
     },
     "execution_count": 30,
     "metadata": {},
     "output_type": "execute_result"
    }
   ],
   "source": [
    "df_clean.columns"
   ]
  },
  {
   "cell_type": "markdown",
   "metadata": {},
   "source": [
    "## <a id='storing'>4. Storing Data</a>"
   ]
  },
  {
   "cell_type": "markdown",
   "metadata": {},
   "source": [
    "Save gathered, assessed, and cleaned dataset to a CSV file named \"gobike_clean.csv\"."
   ]
  },
  {
   "cell_type": "code",
   "execution_count": 31,
   "metadata": {},
   "outputs": [],
   "source": [
    "df_clean.to_csv('gobike_clean.csv', encoding='utf-8', index=False)"
   ]
  },
  {
   "cell_type": "markdown",
   "metadata": {},
   "source": [
    "## <a id='analyze'>5. Analyzing and Visualizing Data</a>\n",
    "In this section, analyze and visualize your wrangled data."
   ]
  },
  {
   "cell_type": "code",
   "execution_count": 32,
   "metadata": {},
   "outputs": [],
   "source": [
    "df=pd.read_csv('gobike_clean.csv')"
   ]
  },
  {
   "cell_type": "code",
   "execution_count": 33,
   "metadata": {},
   "outputs": [
    {
     "data": {
      "text/html": [
       "<div>\n",
       "<style scoped>\n",
       "    .dataframe tbody tr th:only-of-type {\n",
       "        vertical-align: middle;\n",
       "    }\n",
       "\n",
       "    .dataframe tbody tr th {\n",
       "        vertical-align: top;\n",
       "    }\n",
       "\n",
       "    .dataframe thead th {\n",
       "        text-align: right;\n",
       "    }\n",
       "</style>\n",
       "<table border=\"1\" class=\"dataframe\">\n",
       "  <thead>\n",
       "    <tr style=\"text-align: right;\">\n",
       "      <th></th>\n",
       "      <th>duration_sec</th>\n",
       "      <th>start_station_id</th>\n",
       "      <th>start_station_latitude</th>\n",
       "      <th>start_station_longitude</th>\n",
       "      <th>end_station_id</th>\n",
       "      <th>end_station_latitude</th>\n",
       "      <th>end_station_longitude</th>\n",
       "      <th>bike_id</th>\n",
       "      <th>member_birth_year</th>\n",
       "      <th>duration_min</th>\n",
       "      <th>age</th>\n",
       "    </tr>\n",
       "  </thead>\n",
       "  <tbody>\n",
       "    <tr>\n",
       "      <th>count</th>\n",
       "      <td>172746.000000</td>\n",
       "      <td>172746.000000</td>\n",
       "      <td>172746.000000</td>\n",
       "      <td>172746.000000</td>\n",
       "      <td>172746.000000</td>\n",
       "      <td>172746.000000</td>\n",
       "      <td>172746.000000</td>\n",
       "      <td>172746.000000</td>\n",
       "      <td>172746.000000</td>\n",
       "      <td>172746.000000</td>\n",
       "      <td>172746.000000</td>\n",
       "    </tr>\n",
       "    <tr>\n",
       "      <th>mean</th>\n",
       "      <td>704.017413</td>\n",
       "      <td>139.173266</td>\n",
       "      <td>37.770996</td>\n",
       "      <td>-122.351644</td>\n",
       "      <td>136.744868</td>\n",
       "      <td>37.771193</td>\n",
       "      <td>-122.351212</td>\n",
       "      <td>4486.516429</td>\n",
       "      <td>1985.261349</td>\n",
       "      <td>11.241574</td>\n",
       "      <td>36.738651</td>\n",
       "    </tr>\n",
       "    <tr>\n",
       "      <th>std</th>\n",
       "      <td>1649.557629</td>\n",
       "      <td>111.707178</td>\n",
       "      <td>0.100800</td>\n",
       "      <td>0.118109</td>\n",
       "      <td>111.381515</td>\n",
       "      <td>0.100704</td>\n",
       "      <td>0.117669</td>\n",
       "      <td>1656.901001</td>\n",
       "      <td>9.250810</td>\n",
       "      <td>27.493836</td>\n",
       "      <td>9.250810</td>\n",
       "    </tr>\n",
       "    <tr>\n",
       "      <th>min</th>\n",
       "      <td>61.000000</td>\n",
       "      <td>3.000000</td>\n",
       "      <td>37.317298</td>\n",
       "      <td>-122.453704</td>\n",
       "      <td>3.000000</td>\n",
       "      <td>37.317298</td>\n",
       "      <td>-122.453704</td>\n",
       "      <td>11.000000</td>\n",
       "      <td>1957.000000</td>\n",
       "      <td>1.000000</td>\n",
       "      <td>21.000000</td>\n",
       "    </tr>\n",
       "    <tr>\n",
       "      <th>25%</th>\n",
       "      <td>323.000000</td>\n",
       "      <td>47.000000</td>\n",
       "      <td>37.770083</td>\n",
       "      <td>-122.411901</td>\n",
       "      <td>44.000000</td>\n",
       "      <td>37.770407</td>\n",
       "      <td>-122.411647</td>\n",
       "      <td>3809.000000</td>\n",
       "      <td>1980.000000</td>\n",
       "      <td>5.000000</td>\n",
       "      <td>30.000000</td>\n",
       "    </tr>\n",
       "    <tr>\n",
       "      <th>50%</th>\n",
       "      <td>510.000000</td>\n",
       "      <td>104.000000</td>\n",
       "      <td>37.780760</td>\n",
       "      <td>-122.398279</td>\n",
       "      <td>101.000000</td>\n",
       "      <td>37.781010</td>\n",
       "      <td>-122.397437</td>\n",
       "      <td>4962.000000</td>\n",
       "      <td>1987.000000</td>\n",
       "      <td>8.000000</td>\n",
       "      <td>35.000000</td>\n",
       "    </tr>\n",
       "    <tr>\n",
       "      <th>75%</th>\n",
       "      <td>788.000000</td>\n",
       "      <td>239.000000</td>\n",
       "      <td>37.797320</td>\n",
       "      <td>-122.283093</td>\n",
       "      <td>238.000000</td>\n",
       "      <td>37.797673</td>\n",
       "      <td>-122.286533</td>\n",
       "      <td>5506.000000</td>\n",
       "      <td>1992.000000</td>\n",
       "      <td>13.000000</td>\n",
       "      <td>42.000000</td>\n",
       "    </tr>\n",
       "    <tr>\n",
       "      <th>max</th>\n",
       "      <td>84548.000000</td>\n",
       "      <td>398.000000</td>\n",
       "      <td>37.880222</td>\n",
       "      <td>-121.874119</td>\n",
       "      <td>398.000000</td>\n",
       "      <td>37.880222</td>\n",
       "      <td>-121.874119</td>\n",
       "      <td>6645.000000</td>\n",
       "      <td>2001.000000</td>\n",
       "      <td>1409.000000</td>\n",
       "      <td>65.000000</td>\n",
       "    </tr>\n",
       "  </tbody>\n",
       "</table>\n",
       "</div>"
      ],
      "text/plain": [
       "        duration_sec  start_station_id  start_station_latitude  \\\n",
       "count  172746.000000     172746.000000           172746.000000   \n",
       "mean      704.017413        139.173266               37.770996   \n",
       "std      1649.557629        111.707178                0.100800   \n",
       "min        61.000000          3.000000               37.317298   \n",
       "25%       323.000000         47.000000               37.770083   \n",
       "50%       510.000000        104.000000               37.780760   \n",
       "75%       788.000000        239.000000               37.797320   \n",
       "max     84548.000000        398.000000               37.880222   \n",
       "\n",
       "       start_station_longitude  end_station_id  end_station_latitude  \\\n",
       "count            172746.000000   172746.000000         172746.000000   \n",
       "mean               -122.351644      136.744868             37.771193   \n",
       "std                   0.118109      111.381515              0.100704   \n",
       "min                -122.453704        3.000000             37.317298   \n",
       "25%                -122.411901       44.000000             37.770407   \n",
       "50%                -122.398279      101.000000             37.781010   \n",
       "75%                -122.283093      238.000000             37.797673   \n",
       "max                -121.874119      398.000000             37.880222   \n",
       "\n",
       "       end_station_longitude        bike_id  member_birth_year   duration_min  \\\n",
       "count          172746.000000  172746.000000      172746.000000  172746.000000   \n",
       "mean             -122.351212    4486.516429        1985.261349      11.241574   \n",
       "std                 0.117669    1656.901001           9.250810      27.493836   \n",
       "min              -122.453704      11.000000        1957.000000       1.000000   \n",
       "25%              -122.411647    3809.000000        1980.000000       5.000000   \n",
       "50%              -122.397437    4962.000000        1987.000000       8.000000   \n",
       "75%              -122.286533    5506.000000        1992.000000      13.000000   \n",
       "max              -121.874119    6645.000000        2001.000000    1409.000000   \n",
       "\n",
       "                 age  \n",
       "count  172746.000000  \n",
       "mean       36.738651  \n",
       "std         9.250810  \n",
       "min        21.000000  \n",
       "25%        30.000000  \n",
       "50%        35.000000  \n",
       "75%        42.000000  \n",
       "max        65.000000  "
      ]
     },
     "execution_count": 33,
     "metadata": {},
     "output_type": "execute_result"
    }
   ],
   "source": [
    "df.describe()"
   ]
  },
  {
   "cell_type": "markdown",
   "metadata": {},
   "source": [
    "## Univariate Exploration\n",
    "\n",
    "> In this section, we investigate distributions of individual variables."
   ]
  },
  {
   "cell_type": "markdown",
   "metadata": {},
   "source": [
    "we will start by looking at the distribution of the main variable of interest: **duration trip**."
   ]
  },
  {
   "cell_type": "markdown",
   "metadata": {},
   "source": [
    "### 1. Distribution of Duration trip"
   ]
  },
  {
   "cell_type": "code",
   "execution_count": 34,
   "metadata": {
    "scrolled": true
   },
   "outputs": [
    {
     "data": {
      "image/png": "[encoded data removed]",
      "text/plain": [
       "<Figure size 720x360 with 1 Axes>"
      ]
     },
     "metadata": {
      "needs_background": "light"
     },
     "output_type": "display_data"
    }
   ],
   "source": [
    "binsize = 15\n",
    "bins = np.arange(0, df['duration_min'].max(), binsize)\n",
    "plt.figure(figsize=[10,5])\n",
    "plt.hist(data = df, x = 'duration_min', bins = bins)\n",
    "plt.xlabel('Duration (min)')\n",
    "plt.ylabel('Count')\n",
    "plt.title(\"Distribution of Duration (min)\")\n",
    "plt.show()"
   ]
  },
  {
   "cell_type": "markdown",
   "metadata": {},
   "source": [
    "Graphically, we can notice that the majority of trips took less than 15 minutes."
   ]
  },
  {
   "cell_type": "markdown",
   "metadata": {},
   "source": [
    "### 2. Distribution of user type"
   ]
  },
  {
   "cell_type": "code",
   "execution_count": 35,
   "metadata": {},
   "outputs": [
    {
     "data": {
      "text/plain": [
       "90.47908489921619"
      ]
     },
     "execution_count": 35,
     "metadata": {},
     "output_type": "execute_result"
    }
   ],
   "source": [
    "#calculate the percentage of subscribers\n",
    "df[df.user_type == 'Subscriber'].user_type.count()/df.shape[0]*100"
   ]
  },
  {
   "cell_type": "markdown",
   "metadata": {},
   "source": [
    "90.47% of users are subscribers."
   ]
  },
  {
   "cell_type": "code",
   "execution_count": 36,
   "metadata": {},
   "outputs": [
    {
     "data": {
      "image/png": "[encoded data removed]",
      "text/plain": [
       "<Figure size 600x400 with 1 Axes>"
      ]
     },
     "metadata": {
      "needs_background": "light"
     },
     "output_type": "display_data"
    }
   ],
   "source": [
    "plt.figure(dpi = 100)\n",
    "#plot = sb.countplot(data=df, x='user_type', color=base_color)\n",
    "sb.countplot(x=df[\"user_type\"])\n",
    "plt.xlabel('User Type')\n",
    "plt.ylabel('Count')\n",
    "plt.title(\"Distribution of user type\")\n",
    "plt.show()"
   ]
  },
  {
   "cell_type": "markdown",
   "metadata": {},
   "source": [
    "We notice that the majority of users are subscribers."
   ]
  },
  {
   "cell_type": "markdown",
   "metadata": {},
   "source": [
    "### 3. Distribution of member_gender"
   ]
  },
  {
   "cell_type": "code",
   "execution_count": 37,
   "metadata": {},
   "outputs": [],
   "source": [
    "#calculate the number of each gender\n",
    "male=df[df.member_gender == 'Male'].member_gender.count()\n",
    "female=df[df.member_gender == 'Female'].member_gender.count()\n",
    "other=df[df.member_gender == 'Other'].member_gender.count()"
   ]
  },
  {
   "cell_type": "code",
   "execution_count": 38,
   "metadata": {},
   "outputs": [
    {
     "data": {
      "text/plain": [
       "(128701, 40448, 3597, 172746)"
      ]
     },
     "execution_count": 38,
     "metadata": {},
     "output_type": "execute_result"
    }
   ],
   "source": [
    "male, female, other,df.shape[0]"
   ]
  },
  {
   "cell_type": "code",
   "execution_count": 39,
   "metadata": {},
   "outputs": [
    {
     "data": {
      "text/plain": [
       "(74.50302756648489, 23.414724508816413, 2.0822479246986902)"
      ]
     },
     "execution_count": 39,
     "metadata": {},
     "output_type": "execute_result"
    }
   ],
   "source": [
    "male/df.shape[0]*100 , female/df.shape[0]*100, other/df.shape[0]*100"
   ]
  },
  {
   "cell_type": "markdown",
   "metadata": {},
   "source": [
    "Males represent 74.5% of users\n",
    "Females represent 23.41 of users\n",
    "Other gender represents 2.08 of users\n",
    "\n",
    "we will illustrates these statisticts graphically"
   ]
  },
  {
   "cell_type": "code",
   "execution_count": 40,
   "metadata": {},
   "outputs": [
    {
     "data": {
      "image/png": "[encoded data removed]",
      "text/plain": [
       "<Figure size 600x400 with 1 Axes>"
      ]
     },
     "metadata": {
      "needs_background": "light"
     },
     "output_type": "display_data"
    }
   ],
   "source": [
    "plt.figure(dpi = 100)\n",
    "#plot = sb.countplot(data=df, x='user_type', color=base_color)\n",
    "sb.countplot(x=df[\"member_gender\"])\n",
    "plt.xlabel('Member gender')\n",
    "plt.ylabel('Count')\n",
    "plt.title(\"Distribution of member gender\")\n",
    "plt.show()"
   ]
  },
  {
   "cell_type": "markdown",
   "metadata": {},
   "source": [
    "This chart depicts that the majority of users are Male, followed by female gender."
   ]
  },
  {
   "cell_type": "markdown",
   "metadata": {},
   "source": [
    "### 4. Distribution of Age"
   ]
  },
  {
   "cell_type": "code",
   "execution_count": 41,
   "metadata": {},
   "outputs": [
    {
     "data": {
      "image/png": "[encoded data removed]",
      "text/plain": [
       "<Figure size 720x360 with 1 Axes>"
      ]
     },
     "metadata": {
      "needs_background": "light"
     },
     "output_type": "display_data"
    }
   ],
   "source": [
    "binsize = 10\n",
    "bins = np.arange(0, df['age'].max(), binsize)\n",
    "plt.figure(figsize=[10,5])\n",
    "plt.hist(data = df, x = 'age', bins = bins)\n",
    "plt.xlabel('Age')\n",
    "plt.ylabel('Count')\n",
    "plt.title(\"Distribution of age\")\n",
    "plt.show()"
   ]
  },
  {
   "cell_type": "markdown",
   "metadata": {},
   "source": [
    "As illustrated in the figure above, we notice that the majority of members are between 30 and 40 years old, followed by members aged between 20 and 30 then those between 40 and 50 years old.\n",
    "\n",
    "In the next graph, we will explore if the distribution of ages are alike for all genders."
   ]
  },
  {
   "cell_type": "code",
   "execution_count": 42,
   "metadata": {},
   "outputs": [
    {
     "data": {
      "image/png": "[encoded data removed]",
      "text/plain": [
       "<Figure size 576x432 with 1 Axes>"
      ]
     },
     "metadata": {
      "needs_background": "light"
     },
     "output_type": "display_data"
    }
   ],
   "source": [
    "#we create 3 dataframes: one for each gender\n",
    "df_male = df[df['member_gender'] == 'Male']\n",
    "df_female = df[df['member_gender'] == 'Female']\n",
    "df_others = df[df['member_gender'] == 'Other']\n",
    "\n",
    "#we plot the distribution of age for each gender\n",
    "fig, ax = plt.subplots(figsize =(8,6))\n",
    "ax.hist(df_male['age'], alpha=0.5, label='Male')\n",
    "ax.hist(df_female['age'], alpha=0.5, label='Female')\n",
    "ax.hist(df_others['age'], alpha=0.5, label='Other')\n",
    "ax.set_title('Distributions of Age per gender')\n",
    "ax.set_xlabel('Age')\n",
    "ax.set_ylabel('Count')\n",
    "ax.legend(loc='upper right')\n",
    "plt.show();"
   ]
  },
  {
   "cell_type": "markdown",
   "metadata": {},
   "source": [
    "As we expect, for both males and females, most ages are distributed aroud 30 and 40 years old."
   ]
  },
  {
   "cell_type": "markdown",
   "metadata": {},
   "source": [
    "### Discuss the distribution(s) of your variable(s) of interest. Were there any unusual points? Did you need to perform any transformations?\n",
    "\n",
    "> The majority of trips took less than 15 minutes.\n",
    "> Subscribers represent the majority of users.\n",
    "> There is more Male than Female or others\n",
    "> Ages are mostly between 30 and 40 years old.\n",
    "\n",
    "### Of the features you investigated, were there any unusual distributions? Did you perform any operations on the data to tidy, adjust, or change the form of the data? If so, why did you do this?\n",
    "\n",
    "> There are some outliers in the age. So we drop those who are wrong\n",
    "> We added a new column where we convert the duration second in duration minutes so the analyse of data will be easier.\n",
    "> We also split the date columns into two columns: one for the date and the second one for the time. We aim to analyze the data basing on time and date separetely."
   ]
  },
  {
   "cell_type": "markdown",
   "metadata": {},
   "source": [
    "## Bivariate Exploration\n",
    "\n",
    "> In this section, we investigate relationships between pairs of variables in our data."
   ]
  },
  {
   "cell_type": "markdown",
   "metadata": {},
   "source": [
    "### 1. Does the gender afffect the duration trip?"
   ]
  },
  {
   "cell_type": "code",
   "execution_count": 43,
   "metadata": {
    "scrolled": false
   },
   "outputs": [
    {
     "data": {
      "text/plain": [
       "Text(0.5, 1.0, 'Distribution of Duration (min) per gender')"
      ]
     },
     "execution_count": 43,
     "metadata": {},
     "output_type": "execute_result"
    },
    {
     "data": {
      "image/png": "[encoded data removed]",
      "text/plain": [
       "<Figure size 432x288 with 1 Axes>"
      ]
     },
     "metadata": {
      "needs_background": "light"
     },
     "output_type": "display_data"
    }
   ],
   "source": [
    "sb.barplot(data = df, x='member_gender', y='duration_min', color = sb.color_palette()[0])\n",
    "plt.xticks(rotation=90);\n",
    "plt.title(\"Distribution of Duration (min) per gender\")"
   ]
  },
  {
   "cell_type": "markdown",
   "metadata": {},
   "source": [
    "We notice that men took less time than female or other gender. whereas women are considered in the second place then Others."
   ]
  },
  {
   "cell_type": "markdown",
   "metadata": {},
   "source": [
    "### 2. Does the user's type afffect the duration trip?"
   ]
  },
  {
   "cell_type": "code",
   "execution_count": 44,
   "metadata": {
    "scrolled": false
   },
   "outputs": [
    {
     "data": {
      "text/plain": [
       "Text(0.5, 1.0, 'Distribution of Duration (min) per user type')"
      ]
     },
     "execution_count": 44,
     "metadata": {},
     "output_type": "execute_result"
    },
    {
     "data": {
      "image/png": "[encoded data removed]",
      "text/plain": [
       "<Figure size 432x288 with 1 Axes>"
      ]
     },
     "metadata": {
      "needs_background": "light"
     },
     "output_type": "display_data"
    }
   ],
   "source": [
    "sb.barplot(data = df, x='user_type', y='duration_min', color = sb.color_palette()[1])\n",
    "plt.xticks(rotation=90);\n",
    "plt.title(\"Distribution of Duration (min) per user type\")"
   ]
  },
  {
   "cell_type": "markdown",
   "metadata": {},
   "source": [
    "Subscribers took less time for their trip"
   ]
  },
  {
   "cell_type": "markdown",
   "metadata": {},
   "source": [
    "### 3. Does the  age  afffect the duration trip?"
   ]
  },
  {
   "cell_type": "code",
   "execution_count": 45,
   "metadata": {
    "scrolled": true
   },
   "outputs": [
    {
     "data": {
      "image/png": "[encoded data removed]",
      "text/plain": [
       "<Figure size 576x360 with 1 Axes>"
      ]
     },
     "metadata": {
      "needs_background": "light"
     },
     "output_type": "display_data"
    },
    {
     "data": {
      "text/plain": [
       "Text(0.5, 1.0, 'Distribution of Duration (min) per ages')"
      ]
     },
     "execution_count": 45,
     "metadata": {},
     "output_type": "execute_result"
    },
    {
     "data": {
      "image/png": "[encoded data removed]",
      "text/plain": [
       "<Figure size 432x288 with 1 Axes>"
      ]
     },
     "metadata": {
      "needs_background": "light"
     },
     "output_type": "display_data"
    }
   ],
   "source": [
    "# scatter plot of price vs. carat, with log transform on price axis\n",
    "\n",
    "plt.figure(figsize = [8, 5])\n",
    "plt.scatter(data = df, x = 'age', y = 'duration_min', alpha = 4/10)\n",
    "plt.xlabel('Age')\n",
    "plt.ylabel('Duration (min)')\n",
    "plt.show()\n",
    "plt.title(\"Distribution of Duration (min) per ages\")"
   ]
  },
  {
   "cell_type": "markdown",
   "metadata": {},
   "source": [
    "### 4. How the user type is distributed over member gender?"
   ]
  },
  {
   "cell_type": "code",
   "execution_count": 46,
   "metadata": {
    "scrolled": true
   },
   "outputs": [
    {
     "data": {
      "text/plain": [
       "Text(0.5, 1.0, 'Distribution of user type per gender')"
      ]
     },
     "execution_count": 46,
     "metadata": {},
     "output_type": "execute_result"
    },
    {
     "data": {
      "image/png": "[encoded data removed]",
      "text/plain": [
       "<Figure size 720x360 with 1 Axes>"
      ]
     },
     "metadata": {
      "needs_background": "light"
     },
     "output_type": "display_data"
    }
   ],
   "source": [
    "plt.figure(figsize=(10,5))\n",
    "ax = sb.countplot(x=\"member_gender\", hue=\"user_type\", data=df)\n",
    "plt.title(\"Distribution of user type per gender\")"
   ]
  },
  {
   "cell_type": "markdown",
   "metadata": {},
   "source": [
    "For all member genders, there are always more subscribers than customers."
   ]
  },
  {
   "cell_type": "markdown",
   "metadata": {},
   "source": [
    "### 5. Does the date start time afffect the duration trip?"
   ]
  },
  {
   "cell_type": "code",
   "execution_count": 47,
   "metadata": {
    "scrolled": true
   },
   "outputs": [
    {
     "data": {
      "text/plain": [
       "start_time_day\n",
       "2019-02-01    10.589877\n",
       "2019-02-02    11.792339\n",
       "2019-02-03    11.298614\n",
       "2019-02-04    10.189900\n",
       "2019-02-05    10.245618\n",
       "2019-02-06    10.381782\n",
       "2019-02-07    10.463238\n",
       "2019-02-08    10.356610\n",
       "2019-02-09    13.810747\n",
       "2019-02-10    14.594068\n",
       "2019-02-11    11.401795\n",
       "2019-02-12    10.452257\n",
       "2019-02-13     9.356416\n",
       "2019-02-14    10.776696\n",
       "2019-02-15    11.248002\n",
       "2019-02-16    13.264890\n",
       "2019-02-17    15.496729\n",
       "2019-02-18    13.094488\n",
       "2019-02-19    10.876892\n",
       "2019-02-20    11.030316\n",
       "2019-02-21    10.709071\n",
       "2019-02-22    11.083063\n",
       "2019-02-23    14.940000\n",
       "2019-02-24    13.202169\n",
       "2019-02-25    10.021302\n",
       "2019-02-26     9.648339\n",
       "2019-02-27    10.807703\n",
       "2019-02-28    11.303915\n",
       "Name: duration_min, dtype: float64"
      ]
     },
     "execution_count": 47,
     "metadata": {},
     "output_type": "execute_result"
    }
   ],
   "source": [
    "# we will start by calculating the mean of duration trip per day\n",
    "df_duration_day=df.groupby('start_time_day')['duration_min'].mean()\n",
    "df_duration_day"
   ]
  },
  {
   "cell_type": "markdown",
   "metadata": {},
   "source": [
    "Visually, we notice that the average duration of all trips are almost around 10 and 12 min except few days like 09-02-2019 and 17-02-2019 and  where we remark that trips took different average time to achieve their goals.\n",
    "\n",
    "For further investigation, we will illustate our conclusion graphically so it will be easier to analyse."
   ]
  },
  {
   "cell_type": "code",
   "execution_count": 80,
   "metadata": {
    "scrolled": false
   },
   "outputs": [
    {
     "name": "stderr",
     "output_type": "stream",
     "text": [
      "/opt/conda/lib/python3.6/site-packages/pandas/plotting/_core.py:402: UserWarning: FixedFormatter should only be used together with FixedLocator\n",
      "  ax.set_xticklabels(xticklabels)\n"
     ]
    },
    {
     "data": {
      "image/png": "[encoded data removed]",
      "text/plain": [
       "<Figure size 720x360 with 1 Axes>"
      ]
     },
     "metadata": {
      "needs_background": "light"
     },
     "output_type": "display_data"
    }
   ],
   "source": [
    "df_duration_day.plot(figsize=(10,5) ,color='red') \n",
    "plt.title('Average trip duration per start day')\n",
    "plt.ylabel('Trip duration in minutes')\n",
    "plt.xlabel('Start day')\n",
    "x_labels=[x for x in range(0,28, 1)]\n",
    "\n",
    "plt.xticks(x_labels)\n",
    "plt.yticks(rotation=360);\n",
    "plt.show()"
   ]
  },
  {
   "cell_type": "markdown",
   "metadata": {},
   "source": [
    "The graph above, further illustrates what we have noticed before: The average time duration for all trips per date is around 10 and 12. However, there some picks such as 13/02/2019 where the average time was 9 minutes, and for 4 days, trips took more time to achieve their end station (between 14 and 15 minutes). "
   ]
  },
  {
   "cell_type": "markdown",
   "metadata": {},
   "source": [
    "### 6. Does the hour start time afffect the duration trip?"
   ]
  },
  {
   "cell_type": "code",
   "execution_count": 49,
   "metadata": {},
   "outputs": [
    {
     "data": {
      "text/plain": [
       "count              172746\n",
       "unique             172449\n",
       "top       09:06:58.005000\n",
       "freq                    3\n",
       "Name: start_time_time, dtype: object"
      ]
     },
     "execution_count": 49,
     "metadata": {},
     "output_type": "execute_result"
    }
   ],
   "source": [
    "# We overlook the waiting date\n",
    "df['start_time_time'].describe()"
   ]
  },
  {
   "cell_type": "markdown",
   "metadata": {},
   "source": [
    "In this data, there are 172746 records where only 172449 are unique values. It is impossible to analyse and explore the data using the whole format of time; therefore, to facilitate this task, we propose extract the strating hour only."
   ]
  },
  {
   "cell_type": "code",
   "execution_count": 50,
   "metadata": {},
   "outputs": [],
   "source": [
    "# We extract the hour of start\n",
    "df['hour']=df['start_time_time'].apply(lambda x:x.split(\":\")[0])\n",
    "df['hour']=df['hour'].astype(int)"
   ]
  },
  {
   "cell_type": "code",
   "execution_count": 51,
   "metadata": {},
   "outputs": [
    {
     "data": {
      "text/plain": [
       "hour\n",
       "0     13.003367\n",
       "1     10.338432\n",
       "2     17.324859\n",
       "3     25.620000\n",
       "4     11.820000\n",
       "5      9.530120\n",
       "6      8.391788\n",
       "7      9.704876\n",
       "8     10.448384\n",
       "9     10.367605\n",
       "10    11.091362\n",
       "11    12.794065\n",
       "12    12.446853\n",
       "13    13.408383\n",
       "14    13.293516\n",
       "15    13.112212\n",
       "16    11.580529\n",
       "17    11.253451\n",
       "18    10.211715\n",
       "19    10.940673\n",
       "20    10.755746\n",
       "21    11.402559\n",
       "22     9.746845\n",
       "23    12.755414\n",
       "Name: duration_min, dtype: float64"
      ]
     },
     "execution_count": 51,
     "metadata": {},
     "output_type": "execute_result"
    }
   ],
   "source": [
    "# we will start by calculating the mean of duration trip per session\n",
    "df_duration_hours=df.groupby('hour')['duration_min'].mean()\n",
    "df_duration_hours"
   ]
  },
  {
   "cell_type": "markdown",
   "metadata": {},
   "source": [
    "We illustrate the resulting group by's query per hour in the next graph."
   ]
  },
  {
   "cell_type": "code",
   "execution_count": 52,
   "metadata": {
    "scrolled": false
   },
   "outputs": [
    {
     "data": {
      "image/png": "[encoded data removed]",
      "text/plain": [
       "<Figure size 720x360 with 1 Axes>"
      ]
     },
     "metadata": {
      "needs_background": "light"
     },
     "output_type": "display_data"
    }
   ],
   "source": [
    "df_duration_hours.plot(figsize=(10,5) ,color='red')\n",
    "plt.title('Average trip duration per starting hour')\n",
    "plt.ylabel('Trip duration in minutes')\n",
    "plt.xlabel('Start Hour')\n",
    "x_labels=[x for x in range(0,23,4)]\n",
    "plt.xticks(x_labels)\n",
    "plt.yticks(rotation=360);\n",
    "plt.show()"
   ]
  },
  {
   "cell_type": "markdown",
   "metadata": {},
   "source": [
    "Users took more time for their trip when they start between 2 and 3AM. Otherwise, the lowest duration was recorded when trips start at 6AM. "
   ]
  },
  {
   "cell_type": "markdown",
   "metadata": {},
   "source": [
    "### 7. Does the session start time afffect the duration trip?"
   ]
  },
  {
   "cell_type": "code",
   "execution_count": 53,
   "metadata": {},
   "outputs": [
    {
     "data": {
      "text/plain": [
       "count    172746.000000\n",
       "mean         13.465504\n",
       "std           4.740323\n",
       "min           0.000000\n",
       "25%           9.000000\n",
       "50%          14.000000\n",
       "75%          17.000000\n",
       "max          23.000000\n",
       "Name: hour, dtype: float64"
      ]
     },
     "execution_count": 53,
     "metadata": {},
     "output_type": "execute_result"
    }
   ],
   "source": [
    "df['hour'].describe()"
   ]
  },
  {
   "cell_type": "markdown",
   "metadata": {},
   "source": [
    "In order to better investigate our data, we will check if the session day influences the trip duration, i.e we propose to split the data into 4 intervals according to their starting hour: morning, afternoon, evening, night. "
   ]
  },
  {
   "cell_type": "code",
   "execution_count": 54,
   "metadata": {
    "scrolled": false
   },
   "outputs": [],
   "source": [
    "# splitting data into 4 internals: Late Night', 'Early Morning','Morning','Afternoon','Evenening','Night depending on the start hour\n",
    "b = [0,4,8,12,16,20,24]\n",
    "l = ['Late Night', 'Early Morning','Morning','Afternoon','Evenening','Night']\n",
    "\n",
    "# adding a column where we define the corresponding session of start\n",
    "df['session']=pd.cut(df['hour'], bins=b, labels=l, include_lowest=True)"
   ]
  },
  {
   "cell_type": "code",
   "execution_count": 55,
   "metadata": {},
   "outputs": [
    {
     "data": {
      "text/plain": [
       "session\n",
       "Late Night       13.849386\n",
       "Early Morning    10.012288\n",
       "Morning          11.418720\n",
       "Afternoon        12.664676\n",
       "Evenening        10.819854\n",
       "Night            11.119610\n",
       "Name: duration_min, dtype: float64"
      ]
     },
     "execution_count": 55,
     "metadata": {},
     "output_type": "execute_result"
    }
   ],
   "source": [
    "# calculate the average trip duration according to the session start\n",
    "df.groupby('session')['duration_min'].mean()"
   ]
  },
  {
   "cell_type": "markdown",
   "metadata": {},
   "source": [
    "We remark that people take less time when they start their trip in early morning. However, longest duration trip were recoded when they start late night."
   ]
  },
  {
   "cell_type": "code",
   "execution_count": 56,
   "metadata": {},
   "outputs": [
    {
     "data": {
      "text/plain": [
       "Text(0.5, 1.0, 'Distribution of Duration (min) by sessions')"
      ]
     },
     "execution_count": 56,
     "metadata": {},
     "output_type": "execute_result"
    },
    {
     "data": {
      "image/png": "[encoded data removed]",
      "text/plain": [
       "<Figure size 432x288 with 1 Axes>"
      ]
     },
     "metadata": {
      "needs_background": "light"
     },
     "output_type": "display_data"
    }
   ],
   "source": [
    "#we visualize the obtained result to communicate better our findings\n",
    "sb.barplot(data = df, x='session', y='duration_min', color = sb.color_palette()[1])\n",
    "plt.xticks(rotation=90);\n",
    "plt.title(\"Distribution of Duration (min) by sessions\")"
   ]
  },
  {
   "cell_type": "markdown",
   "metadata": {},
   "source": [
    "This graph further justifies what we noticed in research question 6. We remark that when trips start during late night they took more time to reach their distinations. As we said in RQ 6, the maximum duration time was recoded between 2 and 3 AM."
   ]
  },
  {
   "cell_type": "markdown",
   "metadata": {},
   "source": [
    "### Talk about some of the relationships you observed in this part of the investigation. How did the feature(s) of interest vary with other features in the dataset?\n",
    "\n",
    "> We notice that subscribers always take less time for their trips. Also, the start time affects the duration of the trip: users take less time when they start their trips in early morning. \n",
    "\n",
    "\n",
    "### Did you observe any interesting relationships between the other features (not the main feature(s) of interest)?\n",
    "\n",
    "> There are more subscribers than customers, and there are more male than other genders"
   ]
  },
  {
   "cell_type": "markdown",
   "metadata": {},
   "source": [
    "## Multivariate Exploration\n",
    "\n",
    "> Create plots of three or more variables to investigate your data even\n",
    "further. Make sure that your investigations are justified, and follow from\n",
    "your work in the previous sections."
   ]
  },
  {
   "cell_type": "markdown",
   "metadata": {},
   "source": [
    "### 1. Does the gender and user type affect the duration trip?"
   ]
  },
  {
   "cell_type": "code",
   "execution_count": 68,
   "metadata": {},
   "outputs": [
    {
     "data": {
      "text/plain": [
       "Text(0.5, 1.05, 'Distribution of Duration (min) by gender and user type')"
      ]
     },
     "execution_count": 68,
     "metadata": {},
     "output_type": "execute_result"
    },
    {
     "data": {
      "image/png": "[encoded data removed]",
      "text/plain": [
       "<Figure size 521.125x432 with 1 Axes>"
      ]
     },
     "metadata": {
      "needs_background": "light"
     },
     "output_type": "display_data"
    }
   ],
   "source": [
    "# Draw a nested barplot by user type and \n",
    "g = sb.catplot(\n",
    "    data=df, kind=\"bar\",\n",
    "    x=\"member_gender\", y=\"duration_min\", hue=\"user_type\",\n",
    "    palette=\"dark\", alpha=.6, height=6\n",
    ")\n",
    "g.despine(left=True)\n",
    "g.set_axis_labels(\"\", \"Duration trip (min)\")\n",
    "g.fig.suptitle(\"Distribution of Duration (min) by gender and user type\", y=1.05, fontsize=16, fontweight='bold');"
   ]
  },
  {
   "cell_type": "markdown",
   "metadata": {},
   "source": [
    "In all cases, Male took less time in their trip either they are customers or subscribers, whereas other gender took more time in all cases."
   ]
  },
  {
   "cell_type": "markdown",
   "metadata": {},
   "source": [
    "### 2. In which starting hour/day, trips are taking the longest duration? "
   ]
  },
  {
   "cell_type": "code",
   "execution_count": 58,
   "metadata": {},
   "outputs": [
    {
     "data": {
      "text/plain": [
       "start_time_day  hour\n",
       "2019-02-01      0        8.142857\n",
       "                1       14.200000\n",
       "                2        9.192308\n",
       "                3        9.100000\n",
       "                4       50.000000\n",
       "                5        7.764706\n",
       "                6        8.057971\n",
       "                7        9.812500\n",
       "                8       10.407098\n",
       "                9        9.372859\n",
       "                10      10.200608\n",
       "                11      10.176471\n",
       "                12      10.620219\n",
       "                13       9.882155\n",
       "                14      12.219251\n",
       "                15      11.757812\n",
       "                16      10.088710\n",
       "                17      11.413870\n",
       "                18       9.030303\n",
       "                19      14.369048\n",
       "                20       9.601942\n",
       "                21      11.771084\n",
       "                22       8.962963\n",
       "                23      34.181818\n",
       "2019-02-02      0        9.066667\n",
       "                1       10.500000\n",
       "                2        7.133333\n",
       "                3        5.333333\n",
       "                4        2.000000\n",
       "                5       47.500000\n",
       "                          ...    \n",
       "2019-02-27      18      11.045728\n",
       "                19       9.862823\n",
       "                20      10.210526\n",
       "                21       9.541872\n",
       "                22       8.328671\n",
       "                23       9.298507\n",
       "2019-02-28      0       34.804878\n",
       "                1       12.888889\n",
       "                2       19.000000\n",
       "                3       27.666667\n",
       "                4       11.090909\n",
       "                5       10.591837\n",
       "                6        7.720000\n",
       "                7       10.232558\n",
       "                8       11.070933\n",
       "                9       11.648376\n",
       "                10      12.105670\n",
       "                11      12.020906\n",
       "                12      14.741758\n",
       "                13      11.912651\n",
       "                14      11.720126\n",
       "                15      12.602703\n",
       "                16      10.476190\n",
       "                17      11.862917\n",
       "                18      10.439153\n",
       "                19      10.823091\n",
       "                20      10.096591\n",
       "                21      10.064151\n",
       "                22       9.994286\n",
       "                23       8.086022\n",
       "Name: duration_min, Length: 672, dtype: float64"
      ]
     },
     "execution_count": 58,
     "metadata": {},
     "output_type": "execute_result"
    }
   ],
   "source": [
    "df.groupby(['start_time_day','hour'])['duration_min'].mean()"
   ]
  },
  {
   "cell_type": "markdown",
   "metadata": {},
   "source": [
    "As we can see, there are many days where trips are taken the minimum time duration. It is hard to analyze these data in this format, we suggest to refine it and add the cooresponding week day to each date."
   ]
  },
  {
   "cell_type": "code",
   "execution_count": 59,
   "metadata": {},
   "outputs": [],
   "source": [
    "#we convert start time day to datetime and accord the cooresponding name of the day\n",
    "df['start_time_day']=pd.to_datetime(df['start_time_day'])\n",
    "df['weekday']=df['start_time_day'].dt.strftime('%A')"
   ]
  },
  {
   "cell_type": "code",
   "execution_count": 60,
   "metadata": {},
   "outputs": [],
   "source": [
    "# we calculate the average duration per day and hour\n",
    "df_duration_day_hour=df.groupby(['weekday','hour'])['duration_min'].mean()"
   ]
  },
  {
   "cell_type": "code",
   "execution_count": 61,
   "metadata": {},
   "outputs": [
    {
     "data": {
      "image/png": "[encoded data removed]",
      "text/plain": [
       "<Figure size 1152x576 with 2 Axes>"
      ]
     },
     "metadata": {
      "needs_background": "light"
     },
     "output_type": "display_data"
    }
   ],
   "source": [
    "plt.figure(figsize = (16,8));\n",
    "plt.subplot(2, 1, 1)\n",
    "avg_duration = df.groupby(['weekday', 'hour'])['duration_min'].mean()\n",
    "avg_duration = avg_duration.reset_index(name='count')\n",
    "avg_duration = avg_duration.pivot(index='weekday', columns='hour', values='count')\n",
    "sb.heatmap(avg_duration, cmap='rocket_r');\n",
    "plt.title('Average duration trip during Weekdays/hours',y=1.05, fontsize=16,fontweight='bold');\n",
    "plt.xlabel('Hour of Day',fontweight='bold');\n",
    "plt.ylabel('Day of Week',fontweight='bold');\n"
   ]
  },
  {
   "cell_type": "markdown",
   "metadata": {},
   "source": [
    "The longest trip were during Sunday and Thursday between 2 and 3 AM followed by Wednesday durings the same hours."
   ]
  },
  {
   "cell_type": "markdown",
   "metadata": {},
   "source": [
    "### 3. How average duration trips are distributed according to the weekday, hour and user type?"
   ]
  },
  {
   "cell_type": "code",
   "execution_count": 62,
   "metadata": {},
   "outputs": [
    {
     "data": {
      "image/png": "[encoded data removed]",
      "text/plain": [
       "<Figure size 1152x576 with 2 Axes>"
      ]
     },
     "metadata": {
      "needs_background": "light"
     },
     "output_type": "display_data"
    },
    {
     "data": {
      "image/png": "[encoded data removed]",
      "text/plain": [
       "<Figure size 1152x576 with 2 Axes>"
      ]
     },
     "metadata": {
      "needs_background": "light"
     },
     "output_type": "display_data"
    }
   ],
   "source": [
    "plt.figure(figsize = (16,8));\n",
    "plt.subplot(2, 1, 1)\n",
    "df_customer= df.query('user_type==\"Customer\"')\n",
    "avg_duration_customer = df_customer.groupby(['weekday', 'hour'])['duration_min'].mean()\n",
    "avg_duration_customer = avg_duration_customer.reset_index(name='count')\n",
    "avg_duration_customer = avg_duration_customer.pivot(index='weekday', columns='hour', values='count')\n",
    "sb.heatmap(avg_duration_customer, cmap='rocket_r');\n",
    "plt.title('Customer',y=1.05, fontsize=13,fontweight='bold');\n",
    "plt.xlabel('Hour of Day',fontweight='bold');\n",
    "plt.ylabel('Day of Week',fontweight='bold');\n",
    "\n",
    "plt.suptitle('Hourly usage during Weekdays for Customers and Subscribers', y=1.05, fontsize=16, fontweight='bold');\n",
    "\n",
    "plt.figure(figsize = (16,8));\n",
    "plt.subplot(2, 1, 1)\n",
    "df_subscriber= df.query('user_type==\"Subscriber\"')\n",
    "avg_duration_subscriber = df_subscriber.groupby(['weekday', 'hour'])['duration_min'].mean()\n",
    "avg_duration_subscriber = avg_duration_subscriber.reset_index(name='count')\n",
    "avg_duration_subscriber = avg_duration_subscriber.pivot(index='weekday', columns='hour', values='count')\n",
    "sb.heatmap(avg_duration_subscriber, cmap='rocket_r');\n",
    "plt.title('Subscriber',y=1.05, fontsize=13,fontweight='bold');\n",
    "plt.xlabel('Hour of Day',fontweight='bold');\n",
    "plt.ylabel('Day of Week',fontweight='bold');\n"
   ]
  },
  {
   "cell_type": "markdown",
   "metadata": {},
   "source": [
    "It is clear from these 2 graphs that subscribers take more time to reach their destinations. This can be justified that as customers, practicing helps to ameliorate the result.\n",
    "\n",
    "Also we notice that the distributions of duration time is slightly behaving the same from 9 AM to 23 PM for both types of users. But there are some difference during the rest of the day: susbscribers always record less time."
   ]
  },
  {
   "cell_type": "markdown",
   "metadata": {},
   "source": [
    "### 4. what is the relation between all variables in the dataset?"
   ]
  },
  {
   "cell_type": "code",
   "execution_count": 72,
   "metadata": {
    "scrolled": true
   },
   "outputs": [
    {
     "data": {
      "image/png": "[encoded data removed]",
      "text/plain": [
       "<Figure size 576x360 with 2 Axes>"
      ]
     },
     "metadata": {
      "needs_background": "light"
     },
     "output_type": "display_data"
    }
   ],
   "source": [
    "# correlation plot\n",
    "plt.figure(figsize = [8, 5])\n",
    "sb.heatmap(df.corr(), annot = True, fmt = '.3f',\n",
    "           cmap = 'vlag_r', center = 0)\n",
    "plt.suptitle('The correlation between all variables', y=1, fontsize=16, fontweight='bold');\n",
    "plt.show()\n"
   ]
  },
  {
   "cell_type": "markdown",
   "metadata": {},
   "source": [
    "The above chart depicts how specific variables in the dataset are correlated between each others using heatmap plots "
   ]
  },
  {
   "cell_type": "markdown",
   "metadata": {},
   "source": [
    "### Talk about some of the relationships you observed in this part of the investigation. Were there features that strengthened each other in terms of looking at your feature(s) of interest?\n",
    "\n",
    "> To strengthen our assumption in Research Question 2 in Bivariate Exploration, we further investigate the relation between then user type and duration trip, i.e, we explore the data in terms of gender member and We notice that subscribers always take less time for their trips whatever their gender.\n",
    "\n",
    "\n",
    "### Were there any interesting or surprising interactions between features?\n",
    "\n",
    "> For our analysis, there is no surprising interaction and we find that all explorations are supporting each others."
   ]
  },
  {
   "cell_type": "markdown",
   "metadata": {},
   "source": [
    "\n",
    "## <a id='conclusions'>6. Conclusions  </a>\n",
    "\n",
    "\n",
    "> **Gender** To summarize, Male represent the majority of users\n",
    "\n",
    "> **Age** Most users are between 30 and 40 years old\n",
    "\n",
    "> **User type** There are more susbcribers (90%) than customers\n",
    "\n",
    "> **Session** Trips starting in early morning take less time than those starting during the rest of the day.\n",
    "\n",
    "> **Duration** The majority of trips take less than 15 minutes. Shortest time duration was recorded early in the morning, specifically at 6AM.\n",
    "\n",
    "\n",
    "> **Limitations**: By lack of time, we couldn't perform the more statistical tests and graphs\n",
    "\n"
   ]
  }
 ],
 "metadata": {
  "kernelspec": {
   "display_name": "Python 3",
   "language": "python",
   "name": "python3"
  },
  "language_info": {
   "codemirror_mode": {
    "name": "ipython",
    "version": 3
   },
   "file_extension": ".py",
   "mimetype": "text/x-python",
   "name": "python",
   "nbconvert_exporter": "python",
   "pygments_lexer": "ipython3",
   "version": "3.6.3"
  }
 },
 "nbformat": 4,
 "nbformat_minor": 2
}
